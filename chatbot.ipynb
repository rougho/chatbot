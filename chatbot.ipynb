{
 "cells": [
  {
   "cell_type": "markdown",
   "metadata": {},
   "source": [
    "# Quastion & Answering Chatbot\n",
    "###### Python 3.7.13\n",
    "##### Rouhollah Ghobadinezhad and Omer Bahadir Orhan"
   ]
  },
  {
   "cell_type": "markdown",
   "metadata": {},
   "source": [
    "### Source: https://chatterbot.readthedocs.io/en/stable/index.html"
   ]
  },
  {
   "cell_type": "markdown",
   "metadata": {},
   "source": [
    "-----------------------------------------------------------------------"
   ]
  },
  {
   "cell_type": "markdown",
   "metadata": {},
   "source": [
    "<br>In this report, we try to explain the process and methodologies used in the development of an intelligent chatbot system leveraging the Python programming language, specifically using the ChatterBot library. The reason for this project lies in the exploration of chatbot technologies as a means to augment real-time customer interaction across a spectrum of industries. The focal point of this investigation is the ChatterBot library's capacity to facilitate the creation of self-learning chatbot systems with a minimalistic approach to coding.\n",
    "\n"
   ]
  },
  {
   "cell_type": "markdown",
   "metadata": {},
   "source": [
    "Our objective is to explain the process of building a self-learning chatbot from the ground up, showcasing the simplicity with which Python can facilitate the creation of sophisticated AI-driven applications. We introduce the foundational steps in setting up a basic chatbot framework using the ChatterBot library. The emphasis, however, is placed on the critical phase of training our chatbot, where the quality and specificity of the training data significantly influence the bot's performance and its ability to deliver meaningful interactions.\n",
    "This dataset is designed to enhance a chatbot's ability to address mental health queries, emphasizing the significance of emotional, psychological, and social well-being. It covers the essentials of mental health, its impact on daily life, and the importance of maintaining it for productivity, relationship health, and effective coping mechanisms. Recognizing the prevalence of mental health issues, the dataset also underscores the availability of help and the potential for recovery, aiming to provide comprehensive support through the chatbot interface.\n"
   ]
  },
  {
   "cell_type": "markdown",
   "metadata": {},
   "source": [
    "Furthermore, the document details the technical processes involved in chatbot development, including the instantiation of a command-line chatbot, refinement of its response mechanism through training, and the procedural steps for exporting, cleansing, and employing chat history as training material. Insight is also provided into the mechanisms by which the ChatterBot library manages training data, alongside a discourse on potential future enhancements, notably the integration of real-user interactions as a means to continuously evolve the chatbot's conversational capabilities.\n"
   ]
  },
  {
   "cell_type": "markdown",
   "metadata": {},
   "source": [
    "In summation, this report archives our expedition through the project and also aims to serve as an instructive compendium for individuals aspiring to navigate the domain of chatbot development using Python's ChatterBot library. The attempt seeks to underscore the practicality and accessibility of deploying Python for the creation of sophisticated, AI-driven technological solutions, thereby contributing to the ongoing discourse on the integration and application of chatbots within digital infrastructures."
   ]
  },
  {
   "cell_type": "code",
   "execution_count": 5,
   "metadata": {},
   "outputs": [
    {
     "name": "stdout",
     "output_type": "stream",
     "text": [
      "Defaulting to user installation because normal site-packages is not writeable\n",
      "Requirement already satisfied: chatterbot==1.0.4 in /home/rohi/.local/lib/python3.7/site-packages (1.0.4)\n",
      "Requirement already satisfied: pytz in /home/rohi/.local/lib/python3.7/site-packages (2024.1)\n",
      "Requirement already satisfied: chatterbot_corpus in /home/rohi/.local/lib/python3.7/site-packages (1.2.0)\n",
      "Requirement already satisfied: numpy in /home/rohi/.local/lib/python3.7/site-packages (1.21.6)\n",
      "Requirement already satisfied: scikit-learn in /home/rohi/.local/lib/python3.7/site-packages (1.0.2)\n",
      "Requirement already satisfied: mathparse<0.2,>=0.1 in /home/rohi/.local/lib/python3.7/site-packages (from chatterbot==1.0.4) (0.1.2)\n",
      "Requirement already satisfied: nltk<4.0,>=3.2 in /home/rohi/.local/lib/python3.7/site-packages (from chatterbot==1.0.4) (3.8.1)\n",
      "Requirement already satisfied: pymongo<4.0,>=3.3 in /home/rohi/.local/lib/python3.7/site-packages (from chatterbot==1.0.4) (3.13.0)\n",
      "Requirement already satisfied: python-dateutil<2.8,>=2.7 in /home/rohi/.local/lib/python3.7/site-packages (from chatterbot==1.0.4) (2.7.5)\n",
      "Requirement already satisfied: sqlalchemy<1.3,>=1.2 in /home/rohi/.local/lib/python3.7/site-packages (from chatterbot==1.0.4) (1.2.19)\n",
      "Requirement already satisfied: pint>=0.8.1 in /home/rohi/.local/lib/python3.7/site-packages (from chatterbot==1.0.4) (0.18)\n",
      "Requirement already satisfied: PyYAML<4.0,>=3.12 in /home/rohi/.local/lib/python3.7/site-packages (from chatterbot_corpus) (3.13)\n",
      "Requirement already satisfied: scipy>=1.1.0 in /home/rohi/.local/lib/python3.7/site-packages (from scikit-learn) (1.7.3)\n",
      "Requirement already satisfied: joblib>=0.11 in /home/rohi/.local/lib/python3.7/site-packages (from scikit-learn) (1.3.2)\n",
      "Requirement already satisfied: threadpoolctl>=2.0.0 in /home/rohi/.local/lib/python3.7/site-packages (from scikit-learn) (3.1.0)\n",
      "Requirement already satisfied: click in /home/rohi/.local/lib/python3.7/site-packages (from nltk<4.0,>=3.2->chatterbot==1.0.4) (8.1.7)\n",
      "Requirement already satisfied: regex>=2021.8.3 in /home/rohi/.local/lib/python3.7/site-packages (from nltk<4.0,>=3.2->chatterbot==1.0.4) (2023.12.25)\n",
      "Requirement already satisfied: tqdm in /home/rohi/.local/lib/python3.7/site-packages (from nltk<4.0,>=3.2->chatterbot==1.0.4) (4.66.2)\n",
      "Requirement already satisfied: packaging in /home/rohi/.local/lib/python3.7/site-packages (from pint>=0.8.1->chatterbot==1.0.4) (23.2)\n",
      "Requirement already satisfied: importlib-metadata in /home/rohi/.local/lib/python3.7/site-packages (from pint>=0.8.1->chatterbot==1.0.4) (6.7.0)\n",
      "Requirement already satisfied: six>=1.5 in /home/rohi/.local/lib/python3.7/site-packages (from python-dateutil<2.8,>=2.7->chatterbot==1.0.4) (1.16.0)\n",
      "Requirement already satisfied: zipp>=0.5 in /home/rohi/.local/lib/python3.7/site-packages (from importlib-metadata->pint>=0.8.1->chatterbot==1.0.4) (3.15.0)\n",
      "Requirement already satisfied: typing-extensions>=3.6.4 in /home/rohi/.local/lib/python3.7/site-packages (from importlib-metadata->pint>=0.8.1->chatterbot==1.0.4) (4.7.1)\n"
     ]
    }
   ],
   "source": [
    "!python3.7 -m pip install chatterbot==1.0.4 pytz chatterbot_corpus numpy scikit-learn"
   ]
  },
  {
   "cell_type": "markdown",
   "metadata": {},
   "source": [
    "#### Simple Chatterbot Example\n"
   ]
  },
  {
   "cell_type": "markdown",
   "metadata": {},
   "source": [
    "We first import modules and libraries we need, such as ChatBot and ListTrainer from chatterbot. Then we create an instance of the ChatBot class and store it into a variable (chatbot here). To train our chatbot to give appropiate response, we start with small amout of data. We simply write a conditional statement usuing while loop that the loop will keep going as long as user have not entered special charachter or string via input, in the loop, user type their message, we store it in a variable named 'query' check if the user did or did not user the special charachter we defined to exit the loop, if they did loop will break and our program ends, if not, we call 'get_response' fucntion from our chatbot instance earlier and pass our 'query' which is the user message to the fucntion and what it will return is the response to the message, the accuracy and quality of the responses depends on the quality and the amount of the data our chatbot got trained with."
   ]
  },
  {
   "cell_type": "markdown",
   "metadata": {},
   "source": [
    "By running the next block, ChatterBot might download some data and language models associated with NLTK."
   ]
  },
  {
   "cell_type": "code",
   "execution_count": 6,
   "metadata": {},
   "outputs": [
    {
     "name": "stderr",
     "output_type": "stream",
     "text": [
      "[nltk_data] Downloading package averaged_perceptron_tagger to\n",
      "[nltk_data]     /home/rohi/nltk_data...\n",
      "[nltk_data]   Package averaged_perceptron_tagger is already up-to-\n",
      "[nltk_data]       date!\n",
      "[nltk_data] Downloading package punkt to /home/rohi/nltk_data...\n",
      "[nltk_data]   Package punkt is already up-to-date!\n",
      "[nltk_data] Downloading package stopwords to /home/rohi/nltk_data...\n",
      "[nltk_data]   Package stopwords is already up-to-date!\n"
     ]
    }
   ],
   "source": [
    "from chatterbot import ChatBot\n",
    "from chatterbot.trainers import ListTrainer\n",
    "\n",
    "chatbot = ChatBot(\"Rohi&Bahadir\")\n",
    "\n",
    "def the_interface(chatbot):\n",
    "    exit_conditions = (\":q\", \"quit\", \"exit\")\n",
    "    while True:\n",
    "        query = input(\">>>  \")\n",
    "        print(f\"You: {query}\")\n",
    "        if query in exit_conditions:\n",
    "            break\n",
    "        else:\n",
    "            print(f\"Bot: {chatbot.get_response(query)}\")\n",
    "\n"
   ]
  },
  {
   "cell_type": "code",
   "execution_count": 97,
   "metadata": {},
   "outputs": [],
   "source": [
    "# the_interface(chatbot)"
   ]
  },
  {
   "cell_type": "markdown",
   "metadata": {},
   "source": [
    "As we said erlier, the chatbot did not trained well yet, has very limited responses, but, by keep running it and have conversation eith it, it do remember your previous conversation."
   ]
  },
  {
   "cell_type": "markdown",
   "metadata": {},
   "source": [
    "Chatterbot require database to store all inputs and connect them with possible responses, to do that, by default, it uses SQLite database file.\n"
   ]
  },
  {
   "cell_type": "markdown",
   "metadata": {},
   "source": [
    "Chatterbot will create a file named \"db.sqlite3\" to mainly store all inputs and possible corresponding answers, and two other with same name expect they ending with \"wal\" and \"-shm\" which they are temporary support files."
   ]
  },
  {
   "cell_type": "markdown",
   "metadata": {},
   "source": [
    "## Train chatterbot"
   ]
  },
  {
   "cell_type": "markdown",
   "metadata": {},
   "source": [
    "ChatterBot comes with a data utility module that can be used to train chat bots. At the moment there is training data for over a dozen languages in this module. Contributions of additional training data or training data in other languages would be greatly appreciated."
   ]
  },
  {
   "cell_type": "markdown",
   "metadata": {},
   "source": [
    "We also can save the corpus dataset into a json file by using <strong>export_for_training()</strong> function that later we can use it to evaluate our chatbot."
   ]
  },
  {
   "cell_type": "code",
   "execution_count": 7,
   "metadata": {},
   "outputs": [
    {
     "name": "stdout",
     "output_type": "stream",
     "text": [
      "Training ai.yml: [                    ] 1%"
     ]
    },
    {
     "name": "stdout",
     "output_type": "stream",
     "text": [
      "Training ai.yml: [####################] 100%\n",
      "Training botprofile.yml: [####################] 100%\n",
      "Training computers.yml: [####################] 100%\n",
      "Training conversations.yml: [####################] 100%\n",
      "Training emotion.yml: [####################] 100%\n",
      "Training food.yml: [####################] 100%\n",
      "Training gossip.yml: [####################] 100%\n",
      "Training greetings.yml: [####################] 100%\n",
      "Training health.yml: [####################] 100%\n",
      "Training history.yml: [####################] 100%\n",
      "Training humor.yml: [####################] 100%\n",
      "Training literature.yml: [####################] 100%\n",
      "Training money.yml: [####################] 100%\n",
      "Training movies.yml: [####################] 100%\n",
      "Training politics.yml: [####################] 100%\n",
      "Training psychology.yml: [####################] 100%\n",
      "Training science.yml: [####################] 100%\n",
      "Training sports.yml: [####################] 100%\n",
      "Training trivia.yml: [####################] 100%\n",
      "Training greetings.yml: [####################] 100%\n",
      "Training conversations.yml: [####################] 100%\n"
     ]
    }
   ],
   "source": [
    "from chatterbot.trainers import ChatterBotCorpusTrainer\n",
    "\n",
    "corpus_trainer = ChatterBotCorpusTrainer(chatbot)\n",
    "corpus_trainer.train('chatterbot.corpus.english')\n",
    "\n",
    "# Train based on english greetings corpus\n",
    "corpus_trainer.train(\"chatterbot.corpus.english.greetings\")\n",
    "\n",
    "# Train based on the english conversations corpus\n",
    "corpus_trainer.train(\"chatterbot.corpus.english.conversations\")\n",
    "\n",
    "corpus_trainer.export_for_training('./chatterbot_corpus_ds.json')\n"
   ]
  },
  {
   "cell_type": "markdown",
   "metadata": {},
   "source": [
    "### Preparing Data for Training"
   ]
  },
  {
   "cell_type": "markdown",
   "metadata": {},
   "source": [
    "in this part, we want to read out data set file using pandas,to do that we first need to instsall pandas module in our envirement, and that import it."
   ]
  },
  {
   "cell_type": "code",
   "execution_count": 8,
   "metadata": {},
   "outputs": [
    {
     "name": "stdout",
     "output_type": "stream",
     "text": [
      "Defaulting to user installation because normal site-packages is not writeable\n",
      "Requirement already satisfied: pandas in /home/rohi/.local/lib/python3.7/site-packages (1.3.5)\n",
      "Requirement already satisfied: python-dateutil>=2.7.3 in /home/rohi/.local/lib/python3.7/site-packages (from pandas) (2.7.5)\n",
      "Requirement already satisfied: pytz>=2017.3 in /home/rohi/.local/lib/python3.7/site-packages (from pandas) (2024.1)\n",
      "Requirement already satisfied: numpy>=1.17.3 in /home/rohi/.local/lib/python3.7/site-packages (from pandas) (1.21.6)\n",
      "Requirement already satisfied: six>=1.5 in /home/rohi/.local/lib/python3.7/site-packages (from python-dateutil>=2.7.3->pandas) (1.16.0)\n"
     ]
    }
   ],
   "source": [
    "!python3.7 -m pip install pandas"
   ]
  },
  {
   "cell_type": "code",
   "execution_count": 9,
   "metadata": {},
   "outputs": [],
   "source": [
    "import pandas as pd"
   ]
  },
  {
   "cell_type": "markdown",
   "metadata": {},
   "source": [
    "#### Mental Health Dataset"
   ]
  },
  {
   "cell_type": "markdown",
   "metadata": {},
   "source": [
    "in this case, we used a Mnetal Health FAQ dataset, containing 98 qaustions and their corresponding answers."
   ]
  },
  {
   "cell_type": "code",
   "execution_count": 77,
   "metadata": {},
   "outputs": [
    {
     "data": {
      "text/html": [
       "<div>\n",
       "<style scoped>\n",
       "    .dataframe tbody tr th:only-of-type {\n",
       "        vertical-align: middle;\n",
       "    }\n",
       "\n",
       "    .dataframe tbody tr th {\n",
       "        vertical-align: top;\n",
       "    }\n",
       "\n",
       "    .dataframe thead th {\n",
       "        text-align: right;\n",
       "    }\n",
       "</style>\n",
       "<table border=\"1\" class=\"dataframe\">\n",
       "  <thead>\n",
       "    <tr style=\"text-align: right;\">\n",
       "      <th></th>\n",
       "      <th>Question_ID</th>\n",
       "      <th>Questions</th>\n",
       "      <th>Answers</th>\n",
       "    </tr>\n",
       "  </thead>\n",
       "  <tbody>\n",
       "    <tr>\n",
       "      <th>0</th>\n",
       "      <td>1590140</td>\n",
       "      <td>What does it mean to have a mental illness?</td>\n",
       "      <td>Mental illnesses are health conditions that di...</td>\n",
       "    </tr>\n",
       "    <tr>\n",
       "      <th>1</th>\n",
       "      <td>2110618</td>\n",
       "      <td>Who does mental illness affect?</td>\n",
       "      <td>It is estimated that mental illness affects 1 ...</td>\n",
       "    </tr>\n",
       "    <tr>\n",
       "      <th>2</th>\n",
       "      <td>6361820</td>\n",
       "      <td>What causes mental illness?</td>\n",
       "      <td>It is estimated that mental illness affects 1 ...</td>\n",
       "    </tr>\n",
       "    <tr>\n",
       "      <th>3</th>\n",
       "      <td>9434130</td>\n",
       "      <td>What are some of the warning signs of mental i...</td>\n",
       "      <td>Symptoms of mental health disorders vary depen...</td>\n",
       "    </tr>\n",
       "    <tr>\n",
       "      <th>4</th>\n",
       "      <td>7657263</td>\n",
       "      <td>Can people with mental illness recover?</td>\n",
       "      <td>When healing from mental illness, early identi...</td>\n",
       "    </tr>\n",
       "    <tr>\n",
       "      <th>...</th>\n",
       "      <td>...</td>\n",
       "      <td>...</td>\n",
       "      <td>...</td>\n",
       "    </tr>\n",
       "    <tr>\n",
       "      <th>93</th>\n",
       "      <td>4373204</td>\n",
       "      <td>How do I know if I'm drinking too much?</td>\n",
       "      <td>Sorting out if you are drinking too much can b...</td>\n",
       "    </tr>\n",
       "    <tr>\n",
       "      <th>94</th>\n",
       "      <td>7807643</td>\n",
       "      <td>If cannabis is dangerous, why are we legalizin...</td>\n",
       "      <td>Cannabis smoke, for example, contains cancer-c...</td>\n",
       "    </tr>\n",
       "    <tr>\n",
       "      <th>95</th>\n",
       "      <td>4352464</td>\n",
       "      <td>How can I convince my kids not to use drugs?</td>\n",
       "      <td>You can't. But you can influence their capacit...</td>\n",
       "    </tr>\n",
       "    <tr>\n",
       "      <th>96</th>\n",
       "      <td>6521784</td>\n",
       "      <td>What is the legal status (and evidence) of CBD...</td>\n",
       "      <td>Cannabidiol or CBD is a naturally occurring co...</td>\n",
       "    </tr>\n",
       "    <tr>\n",
       "      <th>97</th>\n",
       "      <td>3221856</td>\n",
       "      <td>What is the evidence on vaping?</td>\n",
       "      <td>\"Vaping\" is the term for using a device where ...</td>\n",
       "    </tr>\n",
       "  </tbody>\n",
       "</table>\n",
       "<p>98 rows × 3 columns</p>\n",
       "</div>"
      ],
      "text/plain": [
       "    Question_ID                                          Questions  \\\n",
       "0       1590140        What does it mean to have a mental illness?   \n",
       "1       2110618                    Who does mental illness affect?   \n",
       "2       6361820                        What causes mental illness?   \n",
       "3       9434130  What are some of the warning signs of mental i...   \n",
       "4       7657263            Can people with mental illness recover?   \n",
       "..          ...                                                ...   \n",
       "93      4373204            How do I know if I'm drinking too much?   \n",
       "94      7807643  If cannabis is dangerous, why are we legalizin...   \n",
       "95      4352464       How can I convince my kids not to use drugs?   \n",
       "96      6521784  What is the legal status (and evidence) of CBD...   \n",
       "97      3221856                    What is the evidence on vaping?   \n",
       "\n",
       "                                              Answers  \n",
       "0   Mental illnesses are health conditions that di...  \n",
       "1   It is estimated that mental illness affects 1 ...  \n",
       "2   It is estimated that mental illness affects 1 ...  \n",
       "3   Symptoms of mental health disorders vary depen...  \n",
       "4   When healing from mental illness, early identi...  \n",
       "..                                                ...  \n",
       "93  Sorting out if you are drinking too much can b...  \n",
       "94  Cannabis smoke, for example, contains cancer-c...  \n",
       "95  You can't. But you can influence their capacit...  \n",
       "96  Cannabidiol or CBD is a naturally occurring co...  \n",
       "97  \"Vaping\" is the term for using a device where ...  \n",
       "\n",
       "[98 rows x 3 columns]"
      ]
     },
     "execution_count": 77,
     "metadata": {},
     "output_type": "execute_result"
    }
   ],
   "source": [
    "df = pd.read_csv('data/Mental_Health_FAQ.csv') #from kaggle\n",
    "df"
   ]
  },
  {
   "cell_type": "markdown",
   "metadata": {},
   "source": [
    "#### Data Cleaning "
   ]
  },
  {
   "cell_type": "markdown",
   "metadata": {},
   "source": [
    "Before we train our model with our custom dataset, we have to prepeare it, to do that, we first can remove any duplication in our dataset to prevent any confusion to our model, and also prevent it to learn wrong answers to a question."
   ]
  },
  {
   "cell_type": "markdown",
   "metadata": {},
   "source": [
    "What we did was pretty straightforward. We used a simple line in the code below, which is just a fancy way of saying we told our program to look through all the questions and answers and throw away any that were exactly the same. It's like looking through your notes and making sure you only study the unique stuff, so you don't waste your time."
   ]
  },
  {
   "cell_type": "code",
   "execution_count": 78,
   "metadata": {},
   "outputs": [],
   "source": [
    "df_cleaned = df.drop_duplicates(subset=['Questions', 'Answers'])"
   ]
  },
  {
   "cell_type": "markdown",
   "metadata": {},
   "source": [
    "We used this cool tool called unidecode to help us to remove special characters or accents, like the é in café, To do that, we decided to standardize all our text, stripping away any special characters so our chatbot wouldn't get confused."
   ]
  },
  {
   "cell_type": "code",
   "execution_count": 79,
   "metadata": {},
   "outputs": [
    {
     "name": "stdout",
     "output_type": "stream",
     "text": [
      "Defaulting to user installation because normal site-packages is not writeable\n",
      "Requirement already satisfied: unidecode in /home/rohi/.local/lib/python3.7/site-packages (1.3.8)\n"
     ]
    }
   ],
   "source": [
    "!python3.7 -m pip install unidecode"
   ]
  },
  {
   "cell_type": "code",
   "execution_count": 80,
   "metadata": {},
   "outputs": [],
   "source": [
    "from unidecode import unidecode\n",
    "\n",
    "df_cleaned['Questions'] = df_cleaned['Questions'].apply(unidecode)\n",
    "df_cleaned['Answers'] = df_cleaned['Answers'].apply(unidecode)"
   ]
  },
  {
   "cell_type": "code",
   "execution_count": 81,
   "metadata": {},
   "outputs": [
    {
     "data": {
      "text/html": [
       "<div>\n",
       "<style scoped>\n",
       "    .dataframe tbody tr th:only-of-type {\n",
       "        vertical-align: middle;\n",
       "    }\n",
       "\n",
       "    .dataframe tbody tr th {\n",
       "        vertical-align: top;\n",
       "    }\n",
       "\n",
       "    .dataframe thead th {\n",
       "        text-align: right;\n",
       "    }\n",
       "</style>\n",
       "<table border=\"1\" class=\"dataframe\">\n",
       "  <thead>\n",
       "    <tr style=\"text-align: right;\">\n",
       "      <th></th>\n",
       "      <th>Question_ID</th>\n",
       "      <th>Questions</th>\n",
       "      <th>Answers</th>\n",
       "    </tr>\n",
       "  </thead>\n",
       "  <tbody>\n",
       "    <tr>\n",
       "      <th>0</th>\n",
       "      <td>1590140</td>\n",
       "      <td>What does it mean to have a mental illness?</td>\n",
       "      <td>Mental illnesses are health conditions that di...</td>\n",
       "    </tr>\n",
       "    <tr>\n",
       "      <th>1</th>\n",
       "      <td>2110618</td>\n",
       "      <td>Who does mental illness affect?</td>\n",
       "      <td>It is estimated that mental illness affects 1 ...</td>\n",
       "    </tr>\n",
       "    <tr>\n",
       "      <th>2</th>\n",
       "      <td>6361820</td>\n",
       "      <td>What causes mental illness?</td>\n",
       "      <td>It is estimated that mental illness affects 1 ...</td>\n",
       "    </tr>\n",
       "    <tr>\n",
       "      <th>3</th>\n",
       "      <td>9434130</td>\n",
       "      <td>What are some of the warning signs of mental i...</td>\n",
       "      <td>Symptoms of mental health disorders vary depen...</td>\n",
       "    </tr>\n",
       "    <tr>\n",
       "      <th>4</th>\n",
       "      <td>7657263</td>\n",
       "      <td>Can people with mental illness recover?</td>\n",
       "      <td>When healing from mental illness, early identi...</td>\n",
       "    </tr>\n",
       "    <tr>\n",
       "      <th>...</th>\n",
       "      <td>...</td>\n",
       "      <td>...</td>\n",
       "      <td>...</td>\n",
       "    </tr>\n",
       "    <tr>\n",
       "      <th>93</th>\n",
       "      <td>4373204</td>\n",
       "      <td>How do I know if I'm drinking too much?</td>\n",
       "      <td>Sorting out if you are drinking too much can b...</td>\n",
       "    </tr>\n",
       "    <tr>\n",
       "      <th>94</th>\n",
       "      <td>7807643</td>\n",
       "      <td>If cannabis is dangerous, why are we legalizin...</td>\n",
       "      <td>Cannabis smoke, for example, contains cancer-c...</td>\n",
       "    </tr>\n",
       "    <tr>\n",
       "      <th>95</th>\n",
       "      <td>4352464</td>\n",
       "      <td>How can I convince my kids not to use drugs?</td>\n",
       "      <td>You can't. But you can influence their capacit...</td>\n",
       "    </tr>\n",
       "    <tr>\n",
       "      <th>96</th>\n",
       "      <td>6521784</td>\n",
       "      <td>What is the legal status (and evidence) of CBD...</td>\n",
       "      <td>Cannabidiol or CBD is a naturally occurring co...</td>\n",
       "    </tr>\n",
       "    <tr>\n",
       "      <th>97</th>\n",
       "      <td>3221856</td>\n",
       "      <td>What is the evidence on vaping?</td>\n",
       "      <td>\"Vaping\" is the term for using a device where ...</td>\n",
       "    </tr>\n",
       "  </tbody>\n",
       "</table>\n",
       "<p>98 rows × 3 columns</p>\n",
       "</div>"
      ],
      "text/plain": [
       "    Question_ID                                          Questions  \\\n",
       "0       1590140        What does it mean to have a mental illness?   \n",
       "1       2110618                    Who does mental illness affect?   \n",
       "2       6361820                        What causes mental illness?   \n",
       "3       9434130  What are some of the warning signs of mental i...   \n",
       "4       7657263            Can people with mental illness recover?   \n",
       "..          ...                                                ...   \n",
       "93      4373204            How do I know if I'm drinking too much?   \n",
       "94      7807643  If cannabis is dangerous, why are we legalizin...   \n",
       "95      4352464       How can I convince my kids not to use drugs?   \n",
       "96      6521784  What is the legal status (and evidence) of CBD...   \n",
       "97      3221856                    What is the evidence on vaping?   \n",
       "\n",
       "                                              Answers  \n",
       "0   Mental illnesses are health conditions that di...  \n",
       "1   It is estimated that mental illness affects 1 ...  \n",
       "2   It is estimated that mental illness affects 1 ...  \n",
       "3   Symptoms of mental health disorders vary depen...  \n",
       "4   When healing from mental illness, early identi...  \n",
       "..                                                ...  \n",
       "93  Sorting out if you are drinking too much can b...  \n",
       "94  Cannabis smoke, for example, contains cancer-c...  \n",
       "95  You can't. But you can influence their capacit...  \n",
       "96  Cannabidiol or CBD is a naturally occurring co...  \n",
       "97  \"Vaping\" is the term for using a device where ...  \n",
       "\n",
       "[98 rows x 3 columns]"
      ]
     },
     "execution_count": 81,
     "metadata": {},
     "output_type": "execute_result"
    }
   ],
   "source": [
    "df_cleaned"
   ]
  },
  {
   "cell_type": "markdown",
   "metadata": {},
   "source": [
    "After we got rid of the duplicate questions and answers and special charachters and accents, the next step was to pair up each question with its answer. Think of it like creating flashcards for studying; on one side, you have the question, and on the flip side, you have the answer. We used a bit of code to do just that: we took the cleaned-up list of questions and answers and zipped them together. This just means we paired the first question with the first answer, the second question with the second answer, and so on, until we had a whole set of these question-answer 'flashcards.'"
   ]
  },
  {
   "cell_type": "markdown",
   "metadata": {},
   "source": [
    "<strong>\" qa_pairs[:5] \"</strong> just means we're taking a quick look at the top five to see what they're like. It's like flipping through the first few flashcards to check if they're written correctly before you start studying them. This step was super important because it was our final check before feeding these pairs into our chatbot for training. We wanted to make sure it was learning from the best possible material."
   ]
  },
  {
   "cell_type": "code",
   "execution_count": 82,
   "metadata": {},
   "outputs": [
    {
     "data": {
      "text/plain": [
       "[('What does it mean to have a mental illness?',\n",
       "  'Mental illnesses are health conditions that disrupt a personaEUR(tm)s thoughts, emotions, relationships, and daily functioning. They are associated with distress and diminished capacity to engage in the ordinary activities of daily life.\\nMental illnesses fall along a continuum of severity: some are fairly mild and only interfere with some aspects of life, such as certain phobias. On the other end of the spectrum lie serious mental illnesses, which result in major functional impairment and interference with daily life. These include such disorders as major depression, schizophrenia, and bipolar disorder, and may require that the person receives care in a hospital.\\nIt is important to know that mental illnesses are medical conditions that have nothing to do with a personaEUR(tm)s character, intelligence, or willpower. Just as diabetes is a disorder of the pancreas, mental illness is a medical condition due to the brainaEUR(tm)s biology.\\nSimilarly to how one would treat diabetes with medication and insulin, mental illness is treatable with a combination of medication and social support. These treatments are highly effective, with 70-90 percent of individuals receiving treatment experiencing a reduction in symptoms and an improved quality of life. With the proper treatment, it is very possible for a person with mental illness to be independent and successful.'),\n",
       " ('Who does mental illness affect?',\n",
       "  'It is estimated that mental illness affects 1 in 5 adults in America, and that 1 in 24 adults have a serious mental illness. Mental illness does not discriminate; it can affect anyone, regardless of gender, age, income, social status, ethnicity, religion, sexual orientation, or background.\\nAlthough mental illness can affect anyone, certain conditions may be more common in different populations. For instance, eating disorders tend to occur more often in females, while disorders such as attention deficit/hyperactivity disorder is more prevalent in children.\\nAdditionally, all ages are susceptible, but the young and the old are especially vulnerable. Mental illnesses usually strike individuals in the prime of their lives, with 75 percent of mental health conditions developing by the age of 24. This makes identification and treatment of mental disorders particularly difficult, because the normal personality and behavioral changes of adolescence may mask symptoms of a mental health condition.\\nParents and caretakers should be aware of this fact, and take notice of changes in their childaEUR(tm)s mood, personality, personal habits, and social withdrawal. When these occur in children under 18, they are referred to as serious emotional disturbances (SEDs).'),\n",
       " ('What causes mental illness?',\n",
       "  \"It is estimated that mental illness affects 1 in 5 adults in America, and that 1 in 24 adults have a serious mental illness. Mental illness does not discriminate; it can affect anyone, regardless of gender, age, income, social status, ethnicity, religion, sexual orientation, or background. Although mental illness can affect anyone, certain conditions may be more common in different populations. For instance, eating disorders tend to occur more often in females, while disorders such as attention deficit/hyperactivity disorder is more prevalent in children. Additionally, all ages are susceptible, but the young and the old are especially vulnerable. Mental illnesses usually strike individuals in the prime of their lives, with 75 percent of mental health conditions developing by the age of 24. This makes identification and treatment of mental disorders particularly difficult, because the normal personality and behavioral changes of adolescence may mask symptoms of a mental health condition. Parents and caretakers should be aware of this fact, and take notice of changes in their child's mood, personality, personal habits, and social withdrawal. When these occur in children under 18, they are referred to as serious emotional disturbances (SEDs).\"),\n",
       " ('What are some of the warning signs of mental illness?',\n",
       "  'Symptoms of mental health disorders vary depending on the type and severity of the condition. The following is a list of general symptoms that may suggest a mental health disorder, particularly when multiple symptoms are expressed at once.\\nIn adults:\\nConfused thinking\\nLong-lasting sadness or irritability\\nExtreme highs and lows in mood\\nExcessive fear, worrying, or anxiety\\nSocial withdrawal\\nDramatic changes in eating or sleeping habits\\nStrong feelings of anger\\nDelusions or hallucinations (seeing or hearing things that are not really there)\\nIncreasing inability to cope with daily problems and activities\\nThoughts of suicide\\nDenial of obvious problems\\nMany unexplained physical problems\\nAbuse of drugs and/or alcohol\\n  In older children and pre-teens:\\nAbuse of drugs and/or alcohol\\nInability to cope with daily problems and activities\\nChanges in sleeping and/or eating habits\\nExcessive complaints of physical problems\\nDefying authority, skipping school, stealing, or damaging property\\nIntense fear of gaining weight\\nLong-lasting negative mood, often along with poor appetite and thoughts of death\\nFrequent outbursts of anger\\n  In younger children:\\nChanges in school performance\\nPoor grades despite strong efforts\\nExcessive worrying or anxiety\\nHyperactivity\\nPersistent nightmares\\nPersistent disobedience and/or aggressive behavior\\nFrequent temper tantrums'),\n",
       " ('Can people with mental illness recover?',\n",
       "  'When healing from mental illness, early identification and treatment are of vital importance. Based on the nature of the illness, there are a range of effective treatments available. For any type of treatment, it is essential that the person affected is proactive and fully engaged in their own recovery process.\\nMany people with mental illnesses who are diagnosed and treated respond well, although some might experience a return of symptoms. Even in such cases, with careful monitoring and management of the disorder, it is still quite possible to live a fulfilled and productive life.')]"
      ]
     },
     "execution_count": 82,
     "metadata": {},
     "output_type": "execute_result"
    }
   ],
   "source": [
    "qa_pairs = list(zip(df_cleaned['Questions'], df_cleaned['Answers']))\n",
    "qa_pairs[:5]"
   ]
  },
  {
   "cell_type": "markdown",
   "metadata": {},
   "source": [
    "### Train Chatbot"
   ]
  },
  {
   "cell_type": "markdown",
   "metadata": {},
   "source": [
    "We've got our question-answer pairs all lined up, kind of like our study guide. But before we could actually start teaching our chatbot, we needed to put everything in a format it could easily learn from. This might look a bit complex, but all we're doing is taking our pairs of questions and answers and laying them all out in a long line, one after the other. Imagine you have flashcards, and instead of flipping them one by one, you lay them all out in a row so you can see everything at once. That's what we're doing here but in a code way."
   ]
  },
  {
   "cell_type": "code",
   "execution_count": 83,
   "metadata": {},
   "outputs": [
    {
     "name": "stdout",
     "output_type": "stream",
     "text": [
      "['What does it mean to have a mental illness?', 'Mental illnesses are health conditions that disrupt a personaEUR(tm)s thoughts, emotions, relationships, and daily functioning. They are associated with distress and diminished capacity to engage in the ordinary activities of daily life.\\nMental illnesses fall along a continuum of severity: some are fairly mild and only interfere with some aspects of life, such as certain phobias. On the other end of the spectrum lie serious mental illnesses, which result in major functional impairment and interference with daily life. These include such disorders as major depression, schizophrenia, and bipolar disorder, and may require that the person receives care in a hospital.\\nIt is important to know that mental illnesses are medical conditions that have nothing to do with a personaEUR(tm)s character, intelligence, or willpower. Just as diabetes is a disorder of the pancreas, mental illness is a medical condition due to the brainaEUR(tm)s biology.\\nSimilarly to how one would treat diabetes with medication and insulin, mental illness is treatable with a combination of medication and social support. These treatments are highly effective, with 70-90 percent of individuals receiving treatment experiencing a reduction in symptoms and an improved quality of life. With the proper treatment, it is very possible for a person with mental illness to be independent and successful.', 'Who does mental illness affect?', 'It is estimated that mental illness affects 1 in 5 adults in America, and that 1 in 24 adults have a serious mental illness. Mental illness does not discriminate; it can affect anyone, regardless of gender, age, income, social status, ethnicity, religion, sexual orientation, or background.\\nAlthough mental illness can affect anyone, certain conditions may be more common in different populations. For instance, eating disorders tend to occur more often in females, while disorders such as attention deficit/hyperactivity disorder is more prevalent in children.\\nAdditionally, all ages are susceptible, but the young and the old are especially vulnerable. Mental illnesses usually strike individuals in the prime of their lives, with 75 percent of mental health conditions developing by the age of 24. This makes identification and treatment of mental disorders particularly difficult, because the normal personality and behavioral changes of adolescence may mask symptoms of a mental health condition.\\nParents and caretakers should be aware of this fact, and take notice of changes in their childaEUR(tm)s mood, personality, personal habits, and social withdrawal. When these occur in children under 18, they are referred to as serious emotional disturbances (SEDs).', 'What causes mental illness?', \"It is estimated that mental illness affects 1 in 5 adults in America, and that 1 in 24 adults have a serious mental illness. Mental illness does not discriminate; it can affect anyone, regardless of gender, age, income, social status, ethnicity, religion, sexual orientation, or background. Although mental illness can affect anyone, certain conditions may be more common in different populations. For instance, eating disorders tend to occur more often in females, while disorders such as attention deficit/hyperactivity disorder is more prevalent in children. Additionally, all ages are susceptible, but the young and the old are especially vulnerable. Mental illnesses usually strike individuals in the prime of their lives, with 75 percent of mental health conditions developing by the age of 24. This makes identification and treatment of mental disorders particularly difficult, because the normal personality and behavioral changes of adolescence may mask symptoms of a mental health condition. Parents and caretakers should be aware of this fact, and take notice of changes in their child's mood, personality, personal habits, and social withdrawal. When these occur in children under 18, they are referred to as serious emotional disturbances (SEDs).\", 'What are some of the warning signs of mental illness?', 'Symptoms of mental health disorders vary depending on the type and severity of the condition. The following is a list of general symptoms that may suggest a mental health disorder, particularly when multiple symptoms are expressed at once.\\nIn adults:\\nConfused thinking\\nLong-lasting sadness or irritability\\nExtreme highs and lows in mood\\nExcessive fear, worrying, or anxiety\\nSocial withdrawal\\nDramatic changes in eating or sleeping habits\\nStrong feelings of anger\\nDelusions or hallucinations (seeing or hearing things that are not really there)\\nIncreasing inability to cope with daily problems and activities\\nThoughts of suicide\\nDenial of obvious problems\\nMany unexplained physical problems\\nAbuse of drugs and/or alcohol\\n  In older children and pre-teens:\\nAbuse of drugs and/or alcohol\\nInability to cope with daily problems and activities\\nChanges in sleeping and/or eating habits\\nExcessive complaints of physical problems\\nDefying authority, skipping school, stealing, or damaging property\\nIntense fear of gaining weight\\nLong-lasting negative mood, often along with poor appetite and thoughts of death\\nFrequent outbursts of anger\\n  In younger children:\\nChanges in school performance\\nPoor grades despite strong efforts\\nExcessive worrying or anxiety\\nHyperactivity\\nPersistent nightmares\\nPersistent disobedience and/or aggressive behavior\\nFrequent temper tantrums', 'Can people with mental illness recover?', 'When healing from mental illness, early identification and treatment are of vital importance. Based on the nature of the illness, there are a range of effective treatments available. For any type of treatment, it is essential that the person affected is proactive and fully engaged in their own recovery process.\\nMany people with mental illnesses who are diagnosed and treated respond well, although some might experience a return of symptoms. Even in such cases, with careful monitoring and management of the disorder, it is still quite possible to live a fulfilled and productive life.']\n"
     ]
    }
   ],
   "source": [
    "flat_list = [item for pair in qa_pairs for item in pair]\n",
    "print(flat_list[:10])"
   ]
  },
  {
   "cell_type": "markdown",
   "metadata": {},
   "source": [
    "In the code below, we proceeded to initiate the training phase for our chatbot utilizing a tailored approach with the ListTrainer module. This module is specifically designed for sequential training sessions where a structured list of question and answer pairs is presented as the training dataset. The decision to employ ListTrainer was strategic, aimed at optimizing the learning process through direct and focused exposure to the prepared dataset."
   ]
  },
  {
   "cell_type": "code",
   "execution_count": 84,
   "metadata": {},
   "outputs": [],
   "source": [
    "custom_trainer = ListTrainer(chatbot)"
   ]
  },
  {
   "cell_type": "markdown",
   "metadata": {},
   "source": [
    "Now we got to the actual training part with our custom dataset, we wrapped the training command in a try-except block, which is just our way of being cautious. If anything unexpected happens during training, instead of crashing or stopping, our code will catch the problem and let us know what went wrong. It's kind of like having a safety net while learning to do something new — it makes sure we can fix things without losing progress."
   ]
  },
  {
   "cell_type": "code",
   "execution_count": 85,
   "metadata": {},
   "outputs": [
    {
     "name": "stdout",
     "output_type": "stream",
     "text": [
      "List Trainer: [####################] 100%\n"
     ]
    }
   ],
   "source": [
    "try:\n",
    "    custom_trainer.train(flat_list)\n",
    "except Exception as e:\n",
    "    print(f\"An error occurred during training: {e}\")"
   ]
  },
  {
   "cell_type": "markdown",
   "metadata": {},
   "source": [
    "#### Simple test"
   ]
  },
  {
   "cell_type": "markdown",
   "metadata": {},
   "source": [
    "After we trained our chatbot with all those questions and answers, we wanted to see how well it learned. So, we decided to ask it something straight out of the topics it studied: \"What causes mental illness?\" This is kind of like a pop quiz to test its knowledge. Here’s what we did:"
   ]
  },
  {
   "cell_type": "code",
   "execution_count": 86,
   "metadata": {},
   "outputs": [
    {
     "name": "stdout",
     "output_type": "stream",
     "text": [
      "It is estimated that mental illness affects 1 in 5 adults in America, and that 1 in 24 adults have a serious mental illness. Mental illness does not discriminate; it can affect anyone, regardless of gender, age, income, social status, ethnicity, religion, sexual orientation, or background. Although mental illness can affect anyone, certain conditions may be more common in different populations. For instance, eating disorders tend to occur more often in females, while disorders such as attention deficit/hyperactivity disorder is more prevalent in children. Additionally, all ages are susceptible, but the young and the old are especially vulnerable. Mental illnesses usually strike individuals in the prime of their lives, with 75 percent of mental health conditions developing by the age of 24. This makes identification and treatment of mental disorders particularly difficult, because the normal personality and behavioral changes of adolescence may mask symptoms of a mental health condition. Parents and caretakers should be aware of this fact, and take notice of changes in their child's mood, personality, personal habits, and social withdrawal. When these occur in children under 18, they are referred to as serious emotional disturbances (SEDs).\n"
     ]
    }
   ],
   "source": [
    "response = chatbot.get_response(\"What causes mental illness?\")\n",
    "print(response)"
   ]
  },
  {
   "cell_type": "markdown",
   "metadata": {},
   "source": [
    "This line of code is basically us asking the chatbot a question to see how it would answer, based on everything it has learned. It's a way to check if our training paid off and if the chatbot can really understand and respond to the kind of questions people might ask it."
   ]
  },
  {
   "cell_type": "markdown",
   "metadata": {},
   "source": [
    "### Test Data Prepration"
   ]
  },
  {
   "cell_type": "markdown",
   "metadata": {},
   "source": [
    "First, we picked out a small set of our cleaned-up data to use as test questions. We didn't want to use too much; just enough to get a good sense of how well the chatbot had learned. We decided on 10% of the data, which is a nice, manageable amount. To make sure we could repeat this test if we needed to and get the same questions each time, we used a fixed setting called random_state. Next, we had to prep this test data so it was ready to go for our chatbot's evaluation. This meant turning each question and its corresponding answer into a format that our test could work with easily. Basically, we created a list where each item was a mini-dictionary with the question and the expected answer. This way, we could feed each question to the chatbot and check if the answer it gave us matched the expected one."
   ]
  },
  {
   "cell_type": "code",
   "execution_count": 87,
   "metadata": {},
   "outputs": [],
   "source": [
    "test_data = df_cleaned.sample(frac=0.1, random_state=42)\n",
    "\n",
    "# Prepare the test dataset in the format expected by the evaluation function.\n",
    "test_questions = [\n",
    "    {\"question\": row[\"Questions\"], \"expected_answer\": row[\"Answers\"]}\n",
    "    for _, row in test_data.iterrows()\n",
    "]"
   ]
  },
  {
   "cell_type": "code",
   "execution_count": 88,
   "metadata": {},
   "outputs": [
    {
     "data": {
      "text/plain": [
       "10"
      ]
     },
     "execution_count": 88,
     "metadata": {},
     "output_type": "execute_result"
    }
   ],
   "source": [
    "len(test_questions)"
   ]
  },
  {
   "cell_type": "markdown",
   "metadata": {},
   "source": [
    "### Chatbot Evaluation"
   ]
  },
  {
   "cell_type": "markdown",
   "metadata": {},
   "source": [
    "To figure out how well our chatbot understands and responds to questions, we use something called cosine similarity, which is comparing how close the chatbot's answer is to the correct answer."
   ]
  },
  {
   "cell_type": "markdown",
   "metadata": {},
   "source": [
    "We start with two tools from the scikit-learn library:\n",
    "\n"
   ]
  },
  {
   "cell_type": "markdown",
   "metadata": {},
   "source": [
    "<strong>TfidfVectorizer</strong>: This helps us transform the text (both the chatbot's response and the expected answer) into a numerical form that reflects the importance of words within the text. It’s like highlighting the most important words in a sentence to see how well they match up."
   ]
  },
  {
   "cell_type": "markdown",
   "metadata": {},
   "source": [
    "<strong>cosine_similarity</strong>: This compares the highlighted words to see how similar the chatbot's answer is to the expected answer."
   ]
  },
  {
   "cell_type": "markdown",
   "metadata": {},
   "source": [
    "The <strong>calculate_similarity</strong> function takes the chatbot's response and the expected answer, turns them into a numerical form with TfidfVectorizer, and then calculates how similar these two forms are using cosine similarity. The closer the similarity score is to 1, the more similar the responses are."
   ]
  },
  {
   "cell_type": "code",
   "execution_count": 89,
   "metadata": {},
   "outputs": [],
   "source": [
    "from sklearn.metrics.pairwise import cosine_similarity\n",
    "from sklearn.feature_extraction.text import TfidfVectorizer\n",
    "\n",
    "\n",
    "def calculate_similarity(response, expected_answer):\n",
    "    vectorizer = TfidfVectorizer().fit_transform([response, expected_answer])\n",
    "    vectors = vectorizer.toarray()\n",
    "    similarity = cosine_similarity([vectors[0]], [vectors[1]])[0][0]\n",
    "    return similarity"
   ]
  },
  {
   "cell_type": "markdown",
   "metadata": {},
   "source": [
    "In the evaluate_chatbot function, we run through all the test questions, get the chatbot's responses, and calculate the similarity for each pair. If the similarity is above 50%, we count it as a correct response"
   ]
  },
  {
   "cell_type": "markdown",
   "metadata": {},
   "source": [
    "For each question-answer pair:\n",
    "<ul>\n",
    "  <li>We calculate the similarity score.</li>\n",
    "  <li>If the score is more than 50%, it’s considered correct, and we note that.</li>\n",
    "  <li>Regardless of the score, we print out a status report showing the question, expected answer, chatbot’s response, and how similar they were.</li>\n",
    "</ul>  \n",
    "<br>\n",
    "After going through all the questions, we calculate the overall accuracy (how many were above 50% similarity) and the average similarity score across all responses."
   ]
  },
  {
   "cell_type": "code",
   "execution_count": 90,
   "metadata": {},
   "outputs": [],
   "source": [
    "def evaluate_chatbot(chatbot, test_questions, similarity_threshold=0.5):\n",
    "    correct_responses = 0\n",
    "    total_similarity = 0\n",
    "    accuracy_values = []\n",
    "    \n",
    "    if not test_questions:\n",
    "        print(\"No test questions provided.\")\n",
    "        return 0, 0, []\n",
    "\n",
    "    for index, test in enumerate(test_questions, start=1):\n",
    "        response = chatbot.get_response(test[\"question\"]).text\n",
    "        similarity = calculate_similarity(response, test[\"expected_answer\"])\n",
    "        total_similarity += similarity\n",
    "\n",
    "        if similarity > similarity_threshold or test[\"expected_answer\"] in response:\n",
    "            correct_responses += 1\n",
    "            print(\"Status: Correct\")\n",
    "            print(f\"Question {index}\")\n",
    "            print(f\"Similarity Score: {similarity:.2f}\")\n",
    "        else:\n",
    "            print(\"Status: Incorrect\")\n",
    "            print(f\"Question {index}: {test['question']}\")\n",
    "            print(\"Question:\", test[\"question\"])\n",
    "            print(\"Expected Answer:\", test[\"expected_answer\"])\n",
    "            print(\"Chatbot Response:\", response)\n",
    "            print(\"Similarity Score:\", similarity)\n",
    "\n",
    "        print(\"-\" * 50)\n",
    "        \n",
    "        accuracy_values.append(correct_responses / index * 100)\n",
    "\n",
    "    average_similarity = (total_similarity / len(test_questions)) * 100\n",
    "    accuracy = (correct_responses / len(test_questions)) * 100\n",
    "    print(f\"Accuracy based on threshold: {accuracy:.2f}% ({correct_responses}/{len(test_questions)})\")\n",
    "    print(f\"Average Similarity: {average_similarity:.2f}%\")\n",
    "    \n",
    "    return accuracy, average_similarity, accuracy_values\n"
   ]
  },
  {
   "cell_type": "markdown",
   "metadata": {},
   "source": [
    "By calling our <strong>evaluate_chatbot()</strong> function pass our chatbot and test_question we can start evaluation"
   ]
  },
  {
   "cell_type": "code",
   "execution_count": 91,
   "metadata": {},
   "outputs": [
    {
     "name": "stdout",
     "output_type": "stream",
     "text": [
      "Status: Correct\n",
      "Question 1\n",
      "Similarity Score: 1.00\n",
      "--------------------------------------------------\n",
      "Status: Correct\n",
      "Question 2\n",
      "Similarity Score: 1.00\n",
      "--------------------------------------------------\n",
      "Status: Correct\n",
      "Question 3\n",
      "Similarity Score: 1.00\n",
      "--------------------------------------------------\n",
      "Status: Correct\n",
      "Question 4\n",
      "Similarity Score: 1.00\n",
      "--------------------------------------------------\n",
      "Status: Correct\n",
      "Question 5\n",
      "Similarity Score: 1.00\n",
      "--------------------------------------------------\n",
      "Status: Correct\n",
      "Question 6\n",
      "Similarity Score: 1.00\n",
      "--------------------------------------------------\n",
      "Status: Correct\n",
      "Question 7\n",
      "Similarity Score: 1.00\n",
      "--------------------------------------------------\n",
      "Status: Correct\n",
      "Question 8\n",
      "Similarity Score: 1.00\n",
      "--------------------------------------------------\n",
      "Status: Correct\n",
      "Question 9\n",
      "Similarity Score: 1.00\n",
      "--------------------------------------------------\n",
      "Status: Correct\n",
      "Question 10\n",
      "Similarity Score: 1.00\n",
      "--------------------------------------------------\n",
      "Accuracy based on threshold: 100.00% (10/10)\n",
      "Average Similarity: 100.00%\n"
     ]
    }
   ],
   "source": [
    "accuracy, average_similarity, accuracy_values = evaluate_chatbot(chatbot, test_questions)\n"
   ]
  },
  {
   "cell_type": "markdown",
   "metadata": {},
   "source": [
    "Import pyplot from matplotlib with aliase 'plt' to visualize data"
   ]
  },
  {
   "cell_type": "code",
   "execution_count": 92,
   "metadata": {},
   "outputs": [],
   "source": [
    "import matplotlib.pyplot as plt"
   ]
  },
  {
   "cell_type": "markdown",
   "metadata": {},
   "source": [
    "In the code below, we've created a function named plot_accuracy that takes a list named accuracy_values as its argument. These values represent the accuracy percentages of my chatbot over various evaluation iterations. Our main goal with this function is to visualize the chatbot's learning progress and how its ability to correctly respond to queries improves over time.\n",
    "\n",
    "To achieve this, We utilize the matplotlib library, specifically its plt module, to create a line plot. Each point on the line plot corresponds to an accuracy percentage at a given evaluation iteration, with a circular marker ('o') denoting each data point for clearer visualization.\n",
    "\n",
    "We set the title of the plot to 'Accuracy of Chatterbot' to immediately inform viewers about the graph's purpose. The x-axis is labeled 'Evaluation Iteration' to indicate the sequence of training and evaluation cycles, while the y-axis is labeled 'Accuracy (%)' to display the chatbot's accuracy as a percentage.\n",
    "\n",
    "To enhance readability and usability, We enable a grid on the plot through plt.grid(True), which helps in estimating the accuracy values at various points more easily. I also define the limits for the x-axis and y-axis using plt.xlim and plt.ylim respectively, ensuring that the plot neatly encapsulates all the data points within a defined range. The x-axis starts from 0 to one less than the number of accuracy values to match the list's index base (which starts at 0), and the y-axis is set to range from 0 to 110%, providing a buffer to visually emphasize any accuracies that reach or surpass 100%.\n",
    "\n",
    "Finally, We display the plot with plt.show(), which renders the plot in a window where it can be viewed. This visualization is crucial for us and others to quickly assess the effectiveness of the chatbot's training and make decisions on further improvements or adjustments needed."
   ]
  },
  {
   "cell_type": "code",
   "execution_count": 95,
   "metadata": {},
   "outputs": [],
   "source": [
    "def plot_accuracy(accuracy_values):\n",
    "    plt.plot(accuracy_values, marker='o')\n",
    "    plt.title('Accuracy of Chatterbot')\n",
    "    plt.xlabel('Evaluation Iteration')\n",
    "    plt.ylabel('Accuracy (%)')\n",
    "    plt.grid(True)\n",
    "\n",
    "    plt.xlim(0, len(accuracy_values) - 1)\n",
    "    plt.ylim(0, 110)\n",
    "\n",
    "    plt.show()"
   ]
  },
  {
   "cell_type": "code",
   "execution_count": 96,
   "metadata": {},
   "outputs": [
    {
     "data": {
      "image/png": "[encoded data removed]",
      "text/plain": [
       "<Figure size 640x480 with 1 Axes>"
      ]
     },
     "metadata": {},
     "output_type": "display_data"
    }
   ],
   "source": [
    "plot_accuracy(accuracy_values)"
   ]
  },
  {
   "cell_type": "markdown",
   "metadata": {},
   "source": [
    "### Evaluation with Chatterbot corpus dataset"
   ]
  },
  {
   "cell_type": "markdown",
   "metadata": {},
   "source": [
    "The json.load() function is then used to read the contents of the file and parse it into a Python dictionary. This function takes the file object returned by open() as input and returns a dictionary containing the data stored in the JSON file. The parsed data is stored in a variable named data, making it accessible for further processing or analysis within the Python script. The variable data now holds the contents of the JSON file in the form of a dictionary."
   ]
  },
  {
   "cell_type": "code",
   "execution_count": 51,
   "metadata": {},
   "outputs": [],
   "source": [
    "import json\n",
    "\n",
    "# Load the dataset\n",
    "with open('./chatterbot_corpus_ds.json', 'r') as file:\n",
    "    data = json.load(file)"
   ]
  },
  {
   "cell_type": "markdown",
   "metadata": {},
   "source": [
    "The data variable contains structured data loaded from the JSON file, and it have a key named \"conversations\". This key holds a list of pairs representing conversations or question-answer pairs."
   ]
  },
  {
   "cell_type": "markdown",
   "metadata": {},
   "source": [
    "We use a list comprehension to iterate over each pair in the list under the \"conversations\" key. For each pair, we creates a dictionary with keys \"question\" and \"expected_answer\". These keys represent the question and its expected answer, respectively."
   ]
  },
  {
   "cell_type": "code",
   "execution_count": 52,
   "metadata": {},
   "outputs": [],
   "source": [
    "test_questions = [{\"question\": pair[0], \"expected_answer\": pair[1]}\n",
    "                  for pair in data[\"conversations\"]]"
   ]
  },
  {
   "cell_type": "code",
   "execution_count": 53,
   "metadata": {},
   "outputs": [
    {
     "data": {
      "text/plain": [
       "9803"
      ]
     },
     "execution_count": 53,
     "metadata": {},
     "output_type": "execute_result"
    }
   ],
   "source": [
    "len(test_questions)"
   ]
  },
  {
   "cell_type": "markdown",
   "metadata": {},
   "source": [
    "We can start our evaluation by calling our function and passing two arguments"
   ]
  },
  {
   "cell_type": "code",
   "execution_count": 58,
   "metadata": {},
   "outputs": [
    {
     "name": "stdout",
     "output_type": "stream",
     "text": [
      "Status: Correct\n",
      "Question 1\n",
      "Similarity Score: 1.00\n",
      "--------------------------------------------------\n",
      "Status: Correct\n",
      "Question 2\n",
      "Similarity Score: 1.00\n",
      "--------------------------------------------------\n",
      "Status: Correct\n",
      "Question 3\n",
      "Similarity Score: 1.00\n",
      "--------------------------------------------------\n",
      "Status: Correct\n",
      "Question 4\n",
      "Similarity Score: 1.00\n",
      "--------------------------------------------------\n",
      "Status: Correct\n",
      "Question 5\n",
      "Similarity Score: 1.00\n",
      "--------------------------------------------------\n",
      "Status: Correct\n",
      "Question 6\n",
      "Similarity Score: 1.00\n",
      "--------------------------------------------------\n",
      "Status: Correct\n",
      "Question 7\n",
      "Similarity Score: 1.00\n",
      "--------------------------------------------------\n",
      "Status: Correct\n",
      "Question 8\n",
      "Similarity Score: 1.00\n",
      "--------------------------------------------------\n",
      "Status: Correct\n",
      "Question 9\n",
      "Similarity Score: 1.00\n",
      "--------------------------------------------------\n",
      "Status: Correct\n",
      "Question 10\n",
      "Similarity Score: 1.00\n",
      "--------------------------------------------------\n",
      "Status: Correct\n",
      "Question 11\n",
      "Similarity Score: 1.00\n",
      "--------------------------------------------------\n",
      "Status: Correct\n",
      "Question 12\n",
      "Similarity Score: 1.00\n",
      "--------------------------------------------------\n",
      "Status: Correct\n",
      "Question 13\n",
      "Similarity Score: 1.00\n",
      "--------------------------------------------------\n",
      "Status: Correct\n",
      "Question 14\n",
      "Similarity Score: 1.00\n",
      "--------------------------------------------------\n",
      "Status: Correct\n",
      "Question 15\n",
      "Similarity Score: 1.00\n",
      "--------------------------------------------------\n",
      "Status: Correct\n",
      "Question 16\n",
      "Similarity Score: 1.00\n",
      "--------------------------------------------------\n",
      "Status: Incorrect\n",
      "Question 17: you are immature\n",
      "Question: you are immature\n",
      "Expected Answer: you are immature\n",
      "Chatbot Response: what can i say? i'm sure i've seen that myself.\n",
      "Similarity Score: 0.0\n",
      "--------------------------------------------------\n",
      "Status: Correct\n",
      "Question 18\n",
      "Similarity Score: 1.00\n",
      "--------------------------------------------------\n",
      "Status: Correct\n",
      "Question 19\n",
      "Similarity Score: 1.00\n",
      "--------------------------------------------------\n",
      "Status: Correct\n",
      "Question 20\n",
      "Similarity Score: 1.00\n",
      "--------------------------------------------------\n",
      "Status: Correct\n",
      "Question 21\n",
      "Similarity Score: 1.00\n",
      "--------------------------------------------------\n",
      "Status: Correct\n",
      "Question 22\n",
      "Similarity Score: 1.00\n",
      "--------------------------------------------------\n",
      "Status: Correct\n",
      "Question 23\n",
      "Similarity Score: 1.00\n",
      "--------------------------------------------------\n",
      "Status: Correct\n",
      "Question 24\n",
      "Similarity Score: 1.00\n",
      "--------------------------------------------------\n",
      "Status: Correct\n",
      "Question 25\n",
      "Similarity Score: 1.00\n",
      "--------------------------------------------------\n",
      "Status: Correct\n",
      "Question 26\n",
      "Similarity Score: 1.00\n",
      "--------------------------------------------------\n",
      "Status: Correct\n",
      "Question 27\n",
      "Similarity Score: 1.00\n",
      "--------------------------------------------------\n",
      "Status: Incorrect\n",
      "Question 28: you are unattractive\n",
      "Question: you are unattractive\n",
      "Expected Answer: sometimes i don't even like myself.\n",
      "Chatbot Response: i feel that way too.\n",
      "Similarity Score: 0.0\n",
      "--------------------------------------------------\n",
      "Status: Correct\n",
      "Question 29\n",
      "Similarity Score: 1.00\n",
      "--------------------------------------------------\n",
      "Status: Correct\n",
      "Question 30\n",
      "Similarity Score: 1.00\n",
      "--------------------------------------------------\n",
      "Accuracy based on threshold: 93.33% (28/30)\n",
      "Average Similarity: 93.33%\n"
     ]
    }
   ],
   "source": [
    "accuracy, average_similarity, accuracy_values = evaluate_chatbot(chatbot, test_questions[700:730])"
   ]
  },
  {
   "cell_type": "markdown",
   "metadata": {},
   "source": [
    "To visualize our chatbot accuracy with the custom dataset we only need to call out plotting function again and pass cour accuracy_values to the function"
   ]
  },
  {
   "cell_type": "code",
   "execution_count": 65,
   "metadata": {},
   "outputs": [
    {
     "data": {
      "image/png": "[encoded data removed]",
      "text/plain": [
       "<Figure size 640x480 with 1 Axes>"
      ]
     },
     "metadata": {},
     "output_type": "display_data"
    }
   ],
   "source": [
    "plot_accuracy(accuracy_values)"
   ]
  },
  {
   "cell_type": "code",
   "execution_count": 75,
   "metadata": {},
   "outputs": [
    {
     "name": "stdout",
     "output_type": "stream",
     "text": [
      "accuracy: 93.33\n"
     ]
    }
   ],
   "source": [
    "print(f\"accuracy: {round(accuracy,2)}\" )"
   ]
  },
  {
   "cell_type": "markdown",
   "metadata": {},
   "source": [
    "The chatbot accuracy on a portion of dataset is 93.33%."
   ]
  },
  {
   "cell_type": "markdown",
   "metadata": {},
   "source": [
    "#### Conclusion\n"
   ]
  },
  {
   "cell_type": "markdown",
   "metadata": {},
   "source": [
    "--------------------------------------------------------------"
   ]
  },
  {
   "cell_type": "markdown",
   "metadata": {},
   "source": [
    "This project embarked on the exploration and implementation of an intelligent chatbot by utilizing the ChatterBot library in Python, showcasing the library’s potential to both facilitate the creation of self-learning chat systems with minimal coding effort and support advanced AI applications. Through the rigorous process of development, training, and evaluation, we have illustrated Python’s utility in developing sophisticated AI-driven applications that can significantly enhance customer interactions across various sectors.\n",
    "\n",
    "\n",
    "\n",
    "The chatbot developed in this endeavor is adept at handling a wide spectrum of queries, with a particular emphasis on mental health. This focus underscores the critical importance of addressing emotional, psychological, and social well-being. The effectiveness of the methodologies chosen and the robustness of the ChatterBot library are evident in the high accuracy rates achieved during evaluations, demonstrating the chatbot's capability to provide valuable support and insights.\n",
    "\n",
    "\n",
    "\n",
    "The journey, however, presented its own set of challenges, particularly in the meticulous preparation and refinement of the dataset for training. These challenges have underscored the critical importance of high-quality training data in the development of intelligent chat systems capable of understanding and responding appropriately to a diverse array of questions.\n",
    "\n",
    "\n",
    "\n",
    "Looking ahead, the potential for enhancing this project is considerable. Integrating real-user feedback to continuously improve the chatbot’s conversational abilities appears to be a promising avenue. Additionally, expanding the dataset to cover more topics and refining the training process to enhance the chatbot’s grasp of context and sentiment are seen as essential steps that could further improve its effectiveness and versatility across a wider range of scenarios.\n",
    "\n",
    "\n",
    "\n",
    "As we continue to refine and expand our chatbot, there is an optimistic outlook on its potential to become an invaluable tool in enhancing customer experience and providing support across various domains. The journey has not only revealed the power of the ChatterBot library and Python in crafting impactful AI solutions but also the ongoing need for innovation and adaptation to meet the evolving demands of users and industries alike."
   ]
  }
 ],
 "metadata": {
  "kernelspec": {
   "display_name": "chatbot-aTaNQHtA",
   "language": "python",
   "name": "python3"
  },
  "language_info": {
   "codemirror_mode": {
    "name": "ipython",
    "version": 3
   },
   "file_extension": ".py",
   "mimetype": "text/x-python",
   "name": "python",
   "nbconvert_exporter": "python",
   "pygments_lexer": "ipython3",
   "version": "3.7.17"
  }
 },
 "nbformat": 4,
 "nbformat_minor": 2
}
