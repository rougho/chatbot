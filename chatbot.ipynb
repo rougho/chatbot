{
 "cells": [
  {
   "cell_type": "markdown",
   "metadata": {},
   "source": [
    "# Quastion & Answering Chatbot\n",
    "###### Python 3.7.13\n",
    "##### Rouhollah Ghobadinezhad and Omer Bahadir Orhan"
   ]
  },
  {
   "cell_type": "markdown",
   "metadata": {},
   "source": [
    "#### Source: https://chatterbot.readthedocs.io/en/stable/index.html"
   ]
  },
  {
   "cell_type": "markdown",
   "metadata": {},
   "source": [
    "<br>"
   ]
  },
  {
   "cell_type": "markdown",
   "metadata": {},
   "source": [
    "<br>In this report, we try to explain the process and methodologies used in the development of an intelligent chatbot system leveraging the Python programming language, specifically using the ChatterBot library. The reason for this project lies in the exploration of chatbot technologies as a means to augment real-time customer interaction across a spectrum of industries. The focal point of this investigation is the ChatterBot library's capacity to facilitate the creation of self-learning chatbot systems with a minimalistic approach to coding.\n",
    "\n"
   ]
  },
  {
   "cell_type": "markdown",
   "metadata": {},
   "source": [
    "Our objective is to explain the process of building a self-learning chatbot from the ground up, showcasing the simplicity with which Python can facilitate the creation of sophisticated AI-driven applications. We introduce the foundational steps in setting up a basic chatbot framework using the ChatterBot library. The emphasis, however, is placed on the critical phase of training our chatbot, where the quality and specificity of the training data significantly influence the bot's performance and its ability to deliver meaningful interactions.\n",
    "This dataset is designed to enhance a chatbot's ability to address mental health queries, emphasizing the significance of emotional, psychological, and social well-being. It covers the essentials of mental health, its impact on daily life, and the importance of maintaining it for productivity, relationship health, and effective coping mechanisms. Recognizing the prevalence of mental health issues, the dataset also underscores the availability of help and the potential for recovery, aiming to provide comprehensive support through the chatbot interface.\n"
   ]
  },
  {
   "cell_type": "markdown",
   "metadata": {},
   "source": [
    "Furthermore, the document details the technical processes involved in chatbot development, including the instantiation of a command-line chatbot, refinement of its response mechanism through training, and the procedural steps for exporting, cleansing, and employing chat history as training material. Insight is also provided into the mechanisms by which the ChatterBot library manages training data, alongside a discourse on potential future enhancements, notably the integration of real-user interactions as a means to continuously evolve the chatbot's conversational capabilities.\n"
   ]
  },
  {
   "cell_type": "markdown",
   "metadata": {},
   "source": [
    "In summation, this report archives our expedition through the project and also aims to serve as an instructive compendium for individuals aspiring to navigate the domain of chatbot development using Python's ChatterBot library. The attempt seeks to underscore the practicality and accessibility of deploying Python for the creation of sophisticated, AI-driven technological solutions, thereby contributing to the ongoing discourse on the integration and application of chatbots within digital infrastructures."
   ]
  },
  {
   "cell_type": "code",
   "execution_count": 57,
   "metadata": {},
   "outputs": [
    {
     "name": "stdout",
     "output_type": "stream",
     "text": [
      "Defaulting to user installation because normal site-packages is not writeable\n",
      "Requirement already satisfied: chatterbot==1.0.4 in /home/rohi/.local/lib/python3.7/site-packages (1.0.4)\n",
      "Requirement already satisfied: pytz in /home/rohi/.local/lib/python3.7/site-packages (2024.1)\n",
      "Requirement already satisfied: chatterbot_corpus in /home/rohi/.local/lib/python3.7/site-packages (1.2.0)\n",
      "Requirement already satisfied: numpy in /home/rohi/.local/lib/python3.7/site-packages (1.21.6)\n",
      "Requirement already satisfied: scikit-learn in /home/rohi/.local/lib/python3.7/site-packages (1.0.2)\n",
      "Requirement already satisfied: mathparse<0.2,>=0.1 in /home/rohi/.local/lib/python3.7/site-packages (from chatterbot==1.0.4) (0.1.2)\n",
      "Requirement already satisfied: nltk<4.0,>=3.2 in /home/rohi/.local/lib/python3.7/site-packages (from chatterbot==1.0.4) (3.8.1)\n",
      "Requirement already satisfied: pymongo<4.0,>=3.3 in /home/rohi/.local/lib/python3.7/site-packages (from chatterbot==1.0.4) (3.13.0)\n",
      "Requirement already satisfied: python-dateutil<2.8,>=2.7 in /home/rohi/.local/lib/python3.7/site-packages (from chatterbot==1.0.4) (2.7.5)\n",
      "Requirement already satisfied: sqlalchemy<1.3,>=1.2 in /home/rohi/.local/lib/python3.7/site-packages (from chatterbot==1.0.4) (1.2.19)\n",
      "Requirement already satisfied: pint>=0.8.1 in /home/rohi/.local/lib/python3.7/site-packages (from chatterbot==1.0.4) (0.18)\n",
      "Requirement already satisfied: PyYAML<4.0,>=3.12 in /home/rohi/.local/lib/python3.7/site-packages (from chatterbot_corpus) (3.13)\n",
      "Requirement already satisfied: scipy>=1.1.0 in /home/rohi/.local/lib/python3.7/site-packages (from scikit-learn) (1.7.3)\n",
      "Requirement already satisfied: joblib>=0.11 in /home/rohi/.local/lib/python3.7/site-packages (from scikit-learn) (1.3.2)\n",
      "Requirement already satisfied: threadpoolctl>=2.0.0 in /home/rohi/.local/lib/python3.7/site-packages (from scikit-learn) (3.1.0)\n",
      "Requirement already satisfied: click in /home/rohi/.local/lib/python3.7/site-packages (from nltk<4.0,>=3.2->chatterbot==1.0.4) (8.1.7)\n",
      "Requirement already satisfied: regex>=2021.8.3 in /home/rohi/.local/lib/python3.7/site-packages (from nltk<4.0,>=3.2->chatterbot==1.0.4) (2023.12.25)\n",
      "Requirement already satisfied: tqdm in /home/rohi/.local/lib/python3.7/site-packages (from nltk<4.0,>=3.2->chatterbot==1.0.4) (4.66.2)\n",
      "Requirement already satisfied: packaging in /home/rohi/.local/lib/python3.7/site-packages (from pint>=0.8.1->chatterbot==1.0.4) (23.2)\n",
      "Requirement already satisfied: importlib-metadata in /home/rohi/.local/lib/python3.7/site-packages (from pint>=0.8.1->chatterbot==1.0.4) (6.7.0)\n",
      "Requirement already satisfied: six>=1.5 in /home/rohi/.local/lib/python3.7/site-packages (from python-dateutil<2.8,>=2.7->chatterbot==1.0.4) (1.16.0)\n",
      "Requirement already satisfied: zipp>=0.5 in /home/rohi/.local/lib/python3.7/site-packages (from importlib-metadata->pint>=0.8.1->chatterbot==1.0.4) (3.15.0)\n",
      "Requirement already satisfied: typing-extensions>=3.6.4 in /home/rohi/.local/lib/python3.7/site-packages (from importlib-metadata->pint>=0.8.1->chatterbot==1.0.4) (4.7.1)\n"
     ]
    }
   ],
   "source": [
    "!python3.7 -m pip install chatterbot==1.0.4 pytz chatterbot_corpus numpy scikit-learn"
   ]
  },
  {
   "cell_type": "markdown",
   "metadata": {},
   "source": [
    "#### Simple Chatterbot Example\n"
   ]
  },
  {
   "cell_type": "markdown",
   "metadata": {},
   "source": [
    "We first import modules and libraries we need, such as ChatBot and ListTrainer from chatterbot. Then we create an instance of the ChatBot class and store it into a variable (chatbot here). To train our chatbot to give appropiate response, we start with small amout of data. We simply write a conditional statement usuing while loop that the loop will keep going as long as user have not entered special charachter or string via input, in the loop, user type their message, we store it in a variable named 'query' check if the user did or did not user the special charachter we defined to exit the loop, if they did loop will break and our program ends, if not, we call 'get_response' fucntion from our chatbot instance earlier and pass our 'query' which is the user message to the fucntion and what it will return is the response to the message, the accuracy and quality of the responses depends on the quality and the amount of the data our chatbot got trained with."
   ]
  },
  {
   "cell_type": "markdown",
   "metadata": {},
   "source": [
    "By running the next block, ChatterBot might download some data and language models associated with NLTK."
   ]
  },
  {
   "cell_type": "code",
   "execution_count": 91,
   "metadata": {},
   "outputs": [
    {
     "name": "stderr",
     "output_type": "stream",
     "text": [
      "[nltk_data] Downloading package averaged_perceptron_tagger to\n",
      "[nltk_data]     /home/rohi/nltk_data...\n",
      "[nltk_data]   Package averaged_perceptron_tagger is already up-to-\n",
      "[nltk_data]       date!\n",
      "[nltk_data] Downloading package punkt to /home/rohi/nltk_data...\n",
      "[nltk_data]   Package punkt is already up-to-date!\n",
      "[nltk_data] Downloading package stopwords to /home/rohi/nltk_data...\n",
      "[nltk_data]   Package stopwords is already up-to-date!\n"
     ]
    }
   ],
   "source": [
    "from chatterbot import ChatBot\n",
    "from chatterbot.trainers import ListTrainer\n",
    "\n",
    "chatbot = ChatBot(\"Rohi&Bahadir\")\n",
    "\n",
    "def the_interface(chatbot):\n",
    "    exit_conditions = (\":q\", \"quit\", \"exit\")\n",
    "    while True:\n",
    "        query = input(\">>>  \")\n",
    "        print(f\"You: {query}\")\n",
    "        if query in exit_conditions:\n",
    "            break\n",
    "        else:\n",
    "            print(f\"Bot: {chatbot.get_response(query)}\")\n"
   ]
  },
  {
   "cell_type": "markdown",
   "metadata": {},
   "source": [
    "As we said erlier, the chatbot did not trained well yet, has very limited responses, but, by keep running it and have conversation eith it, it do remember your previous conversation."
   ]
  },
  {
   "cell_type": "markdown",
   "metadata": {},
   "source": [
    "Chatterbot require database to store all inputs and connect them with possible responses, to do that, by default, it uses SQLite database file.\n"
   ]
  },
  {
   "cell_type": "markdown",
   "metadata": {},
   "source": [
    "Chatterbot will create a file named \"db.sqlite3\" to mainly store all inputs and possible corresponding answers, and two other with same name expect they ending with \"wal\" and \"-shm\" which they are temporary support files."
   ]
  },
  {
   "cell_type": "markdown",
   "metadata": {},
   "source": [
    "## Train chatterbot"
   ]
  },
  {
   "cell_type": "markdown",
   "metadata": {},
   "source": [
    "ChatterBot comes with a data utility module that can be used to train chat bots. At the moment there is training data for over a dozen languages in this module. Contributions of additional training data or training data in other languages would be greatly appreciated."
   ]
  },
  {
   "cell_type": "markdown",
   "metadata": {},
   "source": [
    "We also can save the corpus dataset into a json file by using <strong>export_for_training()</strong> function that later we can use it to evaluate our chatbot."
   ]
  },
  {
   "cell_type": "code",
   "execution_count": 111,
   "metadata": {},
   "outputs": [
    {
     "name": "stdout",
     "output_type": "stream",
     "text": [
      "Training ai.yml: [#########           ] 46%"
     ]
    },
    {
     "name": "stdout",
     "output_type": "stream",
     "text": [
      "Training ai.yml: [####################] 100%\n",
      "Training botprofile.yml: [####################] 100%\n",
      "Training computers.yml: [####################] 100%\n",
      "Training conversations.yml: [####################] 100%\n",
      "Training emotion.yml: [####################] 100%\n",
      "Training food.yml: [####################] 100%\n",
      "Training gossip.yml: [####################] 100%\n",
      "Training greetings.yml: [####################] 100%\n",
      "Training health.yml: [####################] 100%\n",
      "Training history.yml: [####################] 100%\n",
      "Training humor.yml: [####################] 100%\n",
      "Training literature.yml: [####################] 100%\n",
      "Training money.yml: [####################] 100%\n",
      "Training movies.yml: [####################] 100%\n",
      "Training politics.yml: [####################] 100%\n",
      "Training psychology.yml: [####################] 100%\n",
      "Training science.yml: [####################] 100%\n",
      "Training sports.yml: [####################] 100%\n",
      "Training trivia.yml: [####################] 100%\n",
      "Training greetings.yml: [####################] 100%\n",
      "Training conversations.yml: [####################] 100%\n"
     ]
    }
   ],
   "source": [
    "from chatterbot.trainers import ChatterBotCorpusTrainer\n",
    "\n",
    "corpus_trainer = ChatterBotCorpusTrainer(chatbot)\n",
    "corpus_trainer.train('chatterbot.corpus.english')\n",
    "\n",
    "# Train based on english greetings corpus\n",
    "corpus_trainer.train(\"chatterbot.corpus.english.greetings\")\n",
    "\n",
    "# Train based on the english conversations corpus\n",
    "corpus_trainer.train(\"chatterbot.corpus.english.conversations\")\n",
    "\n",
    "corpus_trainer.export_for_training('./chatterbot_corpus_ds.json')\n"
   ]
  },
  {
   "cell_type": "markdown",
   "metadata": {},
   "source": [
    "### Preparing Data for Training"
   ]
  },
  {
   "cell_type": "markdown",
   "metadata": {},
   "source": [
    "in this part, we want to read out data set file using pandas,to do that we first need to instsall pandas module in our envirement, and that import it."
   ]
  },
  {
   "cell_type": "code",
   "execution_count": 93,
   "metadata": {},
   "outputs": [
    {
     "name": "stdout",
     "output_type": "stream",
     "text": [
      "Defaulting to user installation because normal site-packages is not writeable\n",
      "Requirement already satisfied: pandas in /home/rohi/.local/lib/python3.7/site-packages (1.3.5)\n",
      "Requirement already satisfied: python-dateutil>=2.7.3 in /home/rohi/.local/lib/python3.7/site-packages (from pandas) (2.7.5)\n",
      "Requirement already satisfied: pytz>=2017.3 in /home/rohi/.local/lib/python3.7/site-packages (from pandas) (2024.1)\n",
      "Requirement already satisfied: numpy>=1.17.3 in /home/rohi/.local/lib/python3.7/site-packages (from pandas) (1.21.6)\n",
      "Requirement already satisfied: six>=1.5 in /home/rohi/.local/lib/python3.7/site-packages (from python-dateutil>=2.7.3->pandas) (1.16.0)\n"
     ]
    }
   ],
   "source": [
    "!python3.7 -m pip install pandas"
   ]
  },
  {
   "cell_type": "code",
   "execution_count": 94,
   "metadata": {},
   "outputs": [],
   "source": [
    "import pandas as pd"
   ]
  },
  {
   "cell_type": "markdown",
   "metadata": {},
   "source": [
    "#### Mental Health Dataset"
   ]
  },
  {
   "cell_type": "markdown",
   "metadata": {},
   "source": [
    "in this case, we used a Mnetal Health FAQ dataset, containing 98 qaustions and their corresponding answers."
   ]
  },
  {
   "cell_type": "code",
   "execution_count": 95,
   "metadata": {},
   "outputs": [
    {
     "data": {
      "text/html": [
       "<div>\n",
       "<style scoped>\n",
       "    .dataframe tbody tr th:only-of-type {\n",
       "        vertical-align: middle;\n",
       "    }\n",
       "\n",
       "    .dataframe tbody tr th {\n",
       "        vertical-align: top;\n",
       "    }\n",
       "\n",
       "    .dataframe thead th {\n",
       "        text-align: right;\n",
       "    }\n",
       "</style>\n",
       "<table border=\"1\" class=\"dataframe\">\n",
       "  <thead>\n",
       "    <tr style=\"text-align: right;\">\n",
       "      <th></th>\n",
       "      <th>Question_ID</th>\n",
       "      <th>Questions</th>\n",
       "      <th>Answers</th>\n",
       "    </tr>\n",
       "  </thead>\n",
       "  <tbody>\n",
       "    <tr>\n",
       "      <th>0</th>\n",
       "      <td>1590140</td>\n",
       "      <td>What does it mean to have a mental illness?</td>\n",
       "      <td>Mental illnesses are health conditions that di...</td>\n",
       "    </tr>\n",
       "    <tr>\n",
       "      <th>1</th>\n",
       "      <td>2110618</td>\n",
       "      <td>Who does mental illness affect?</td>\n",
       "      <td>It is estimated that mental illness affects 1 ...</td>\n",
       "    </tr>\n",
       "    <tr>\n",
       "      <th>2</th>\n",
       "      <td>6361820</td>\n",
       "      <td>What causes mental illness?</td>\n",
       "      <td>It is estimated that mental illness affects 1 ...</td>\n",
       "    </tr>\n",
       "    <tr>\n",
       "      <th>3</th>\n",
       "      <td>9434130</td>\n",
       "      <td>What are some of the warning signs of mental i...</td>\n",
       "      <td>Symptoms of mental health disorders vary depen...</td>\n",
       "    </tr>\n",
       "    <tr>\n",
       "      <th>4</th>\n",
       "      <td>7657263</td>\n",
       "      <td>Can people with mental illness recover?</td>\n",
       "      <td>When healing from mental illness, early identi...</td>\n",
       "    </tr>\n",
       "    <tr>\n",
       "      <th>...</th>\n",
       "      <td>...</td>\n",
       "      <td>...</td>\n",
       "      <td>...</td>\n",
       "    </tr>\n",
       "    <tr>\n",
       "      <th>93</th>\n",
       "      <td>4373204</td>\n",
       "      <td>How do I know if I'm drinking too much?</td>\n",
       "      <td>Sorting out if you are drinking too much can b...</td>\n",
       "    </tr>\n",
       "    <tr>\n",
       "      <th>94</th>\n",
       "      <td>7807643</td>\n",
       "      <td>If cannabis is dangerous, why are we legalizin...</td>\n",
       "      <td>Cannabis smoke, for example, contains cancer-c...</td>\n",
       "    </tr>\n",
       "    <tr>\n",
       "      <th>95</th>\n",
       "      <td>4352464</td>\n",
       "      <td>How can I convince my kids not to use drugs?</td>\n",
       "      <td>You can't. But you can influence their capacit...</td>\n",
       "    </tr>\n",
       "    <tr>\n",
       "      <th>96</th>\n",
       "      <td>6521784</td>\n",
       "      <td>What is the legal status (and evidence) of CBD...</td>\n",
       "      <td>Cannabidiol or CBD is a naturally occurring co...</td>\n",
       "    </tr>\n",
       "    <tr>\n",
       "      <th>97</th>\n",
       "      <td>3221856</td>\n",
       "      <td>What is the evidence on vaping?</td>\n",
       "      <td>\"Vaping\" is the term for using a device where ...</td>\n",
       "    </tr>\n",
       "  </tbody>\n",
       "</table>\n",
       "<p>98 rows × 3 columns</p>\n",
       "</div>"
      ],
      "text/plain": [
       "    Question_ID                                          Questions  \\\n",
       "0       1590140        What does it mean to have a mental illness?   \n",
       "1       2110618                    Who does mental illness affect?   \n",
       "2       6361820                        What causes mental illness?   \n",
       "3       9434130  What are some of the warning signs of mental i...   \n",
       "4       7657263            Can people with mental illness recover?   \n",
       "..          ...                                                ...   \n",
       "93      4373204            How do I know if I'm drinking too much?   \n",
       "94      7807643  If cannabis is dangerous, why are we legalizin...   \n",
       "95      4352464       How can I convince my kids not to use drugs?   \n",
       "96      6521784  What is the legal status (and evidence) of CBD...   \n",
       "97      3221856                    What is the evidence on vaping?   \n",
       "\n",
       "                                              Answers  \n",
       "0   Mental illnesses are health conditions that di...  \n",
       "1   It is estimated that mental illness affects 1 ...  \n",
       "2   It is estimated that mental illness affects 1 ...  \n",
       "3   Symptoms of mental health disorders vary depen...  \n",
       "4   When healing from mental illness, early identi...  \n",
       "..                                                ...  \n",
       "93  Sorting out if you are drinking too much can b...  \n",
       "94  Cannabis smoke, for example, contains cancer-c...  \n",
       "95  You can't. But you can influence their capacit...  \n",
       "96  Cannabidiol or CBD is a naturally occurring co...  \n",
       "97  \"Vaping\" is the term for using a device where ...  \n",
       "\n",
       "[98 rows x 3 columns]"
      ]
     },
     "execution_count": 95,
     "metadata": {},
     "output_type": "execute_result"
    }
   ],
   "source": [
    "df = pd.read_csv('data/Mental_Health_FAQ.csv') #from kaggle\n",
    "df"
   ]
  },
  {
   "cell_type": "markdown",
   "metadata": {},
   "source": [
    "#### Data Cleaning "
   ]
  },
  {
   "cell_type": "markdown",
   "metadata": {},
   "source": [
    "Before we train our model with our custom dataset, we have to prepeare it, to do that, we first can remove any duplication in our dataset to prevent any confusion to our model, and also prevent it to learn wrong answers to a question."
   ]
  },
  {
   "cell_type": "markdown",
   "metadata": {},
   "source": [
    "What we did was pretty straightforward. We used a simple line in the code below, which is just a fancy way of saying we told our program to look through all the questions and answers and throw away any that were exactly the same. It's like looking through your notes and making sure you only study the unique stuff, so you don't waste your time."
   ]
  },
  {
   "cell_type": "code",
   "execution_count": 96,
   "metadata": {},
   "outputs": [],
   "source": [
    "df_cleaned = df.drop_duplicates(subset=['Questions', 'Answers'])"
   ]
  },
  {
   "cell_type": "markdown",
   "metadata": {},
   "source": [
    "We used this cool tool called unidecode to help us to remove special characters or accents, like the é in café, To do that, we decided to standardize all our text, stripping away any special characters so our chatbot wouldn't get confused."
   ]
  },
  {
   "cell_type": "code",
   "execution_count": 97,
   "metadata": {},
   "outputs": [
    {
     "name": "stdout",
     "output_type": "stream",
     "text": [
      "Defaulting to user installation because normal site-packages is not writeable\n",
      "Requirement already satisfied: unidecode in /home/rohi/.local/lib/python3.7/site-packages (1.3.8)\n"
     ]
    }
   ],
   "source": [
    "!python3.7 -m pip install unidecode"
   ]
  },
  {
   "cell_type": "code",
   "execution_count": 98,
   "metadata": {},
   "outputs": [],
   "source": [
    "from unidecode import unidecode\n",
    "\n",
    "df_cleaned['Questions'] = df_cleaned['Questions'].apply(unidecode)\n",
    "df_cleaned['Answers'] = df_cleaned['Answers'].apply(unidecode)"
   ]
  },
  {
   "cell_type": "code",
   "execution_count": 99,
   "metadata": {},
   "outputs": [
    {
     "data": {
      "text/html": [
       "<div>\n",
       "<style scoped>\n",
       "    .dataframe tbody tr th:only-of-type {\n",
       "        vertical-align: middle;\n",
       "    }\n",
       "\n",
       "    .dataframe tbody tr th {\n",
       "        vertical-align: top;\n",
       "    }\n",
       "\n",
       "    .dataframe thead th {\n",
       "        text-align: right;\n",
       "    }\n",
       "</style>\n",
       "<table border=\"1\" class=\"dataframe\">\n",
       "  <thead>\n",
       "    <tr style=\"text-align: right;\">\n",
       "      <th></th>\n",
       "      <th>Question_ID</th>\n",
       "      <th>Questions</th>\n",
       "      <th>Answers</th>\n",
       "    </tr>\n",
       "  </thead>\n",
       "  <tbody>\n",
       "    <tr>\n",
       "      <th>0</th>\n",
       "      <td>1590140</td>\n",
       "      <td>What does it mean to have a mental illness?</td>\n",
       "      <td>Mental illnesses are health conditions that di...</td>\n",
       "    </tr>\n",
       "    <tr>\n",
       "      <th>1</th>\n",
       "      <td>2110618</td>\n",
       "      <td>Who does mental illness affect?</td>\n",
       "      <td>It is estimated that mental illness affects 1 ...</td>\n",
       "    </tr>\n",
       "    <tr>\n",
       "      <th>2</th>\n",
       "      <td>6361820</td>\n",
       "      <td>What causes mental illness?</td>\n",
       "      <td>It is estimated that mental illness affects 1 ...</td>\n",
       "    </tr>\n",
       "    <tr>\n",
       "      <th>3</th>\n",
       "      <td>9434130</td>\n",
       "      <td>What are some of the warning signs of mental i...</td>\n",
       "      <td>Symptoms of mental health disorders vary depen...</td>\n",
       "    </tr>\n",
       "    <tr>\n",
       "      <th>4</th>\n",
       "      <td>7657263</td>\n",
       "      <td>Can people with mental illness recover?</td>\n",
       "      <td>When healing from mental illness, early identi...</td>\n",
       "    </tr>\n",
       "    <tr>\n",
       "      <th>...</th>\n",
       "      <td>...</td>\n",
       "      <td>...</td>\n",
       "      <td>...</td>\n",
       "    </tr>\n",
       "    <tr>\n",
       "      <th>93</th>\n",
       "      <td>4373204</td>\n",
       "      <td>How do I know if I'm drinking too much?</td>\n",
       "      <td>Sorting out if you are drinking too much can b...</td>\n",
       "    </tr>\n",
       "    <tr>\n",
       "      <th>94</th>\n",
       "      <td>7807643</td>\n",
       "      <td>If cannabis is dangerous, why are we legalizin...</td>\n",
       "      <td>Cannabis smoke, for example, contains cancer-c...</td>\n",
       "    </tr>\n",
       "    <tr>\n",
       "      <th>95</th>\n",
       "      <td>4352464</td>\n",
       "      <td>How can I convince my kids not to use drugs?</td>\n",
       "      <td>You can't. But you can influence their capacit...</td>\n",
       "    </tr>\n",
       "    <tr>\n",
       "      <th>96</th>\n",
       "      <td>6521784</td>\n",
       "      <td>What is the legal status (and evidence) of CBD...</td>\n",
       "      <td>Cannabidiol or CBD is a naturally occurring co...</td>\n",
       "    </tr>\n",
       "    <tr>\n",
       "      <th>97</th>\n",
       "      <td>3221856</td>\n",
       "      <td>What is the evidence on vaping?</td>\n",
       "      <td>\"Vaping\" is the term for using a device where ...</td>\n",
       "    </tr>\n",
       "  </tbody>\n",
       "</table>\n",
       "<p>98 rows × 3 columns</p>\n",
       "</div>"
      ],
      "text/plain": [
       "    Question_ID                                          Questions  \\\n",
       "0       1590140        What does it mean to have a mental illness?   \n",
       "1       2110618                    Who does mental illness affect?   \n",
       "2       6361820                        What causes mental illness?   \n",
       "3       9434130  What are some of the warning signs of mental i...   \n",
       "4       7657263            Can people with mental illness recover?   \n",
       "..          ...                                                ...   \n",
       "93      4373204            How do I know if I'm drinking too much?   \n",
       "94      7807643  If cannabis is dangerous, why are we legalizin...   \n",
       "95      4352464       How can I convince my kids not to use drugs?   \n",
       "96      6521784  What is the legal status (and evidence) of CBD...   \n",
       "97      3221856                    What is the evidence on vaping?   \n",
       "\n",
       "                                              Answers  \n",
       "0   Mental illnesses are health conditions that di...  \n",
       "1   It is estimated that mental illness affects 1 ...  \n",
       "2   It is estimated that mental illness affects 1 ...  \n",
       "3   Symptoms of mental health disorders vary depen...  \n",
       "4   When healing from mental illness, early identi...  \n",
       "..                                                ...  \n",
       "93  Sorting out if you are drinking too much can b...  \n",
       "94  Cannabis smoke, for example, contains cancer-c...  \n",
       "95  You can't. But you can influence their capacit...  \n",
       "96  Cannabidiol or CBD is a naturally occurring co...  \n",
       "97  \"Vaping\" is the term for using a device where ...  \n",
       "\n",
       "[98 rows x 3 columns]"
      ]
     },
     "execution_count": 99,
     "metadata": {},
     "output_type": "execute_result"
    }
   ],
   "source": [
    "df_cleaned"
   ]
  },
  {
   "cell_type": "markdown",
   "metadata": {},
   "source": [
    "After we got rid of the duplicate questions and answers and special charachters and accents, the next step was to pair up each question with its answer. Think of it like creating flashcards for studying; on one side, you have the question, and on the flip side, you have the answer. We used a bit of code to do just that: we took the cleaned-up list of questions and answers and zipped them together. This just means we paired the first question with the first answer, the second question with the second answer, and so on, until we had a whole set of these question-answer 'flashcards.'"
   ]
  },
  {
   "cell_type": "markdown",
   "metadata": {},
   "source": [
    "<strong>\" qa_pairs[:5] \"</strong> just means we're taking a quick look at the top five to see what they're like. It's like flipping through the first few flashcards to check if they're written correctly before you start studying them. This step was super important because it was our final check before feeding these pairs into our chatbot for training. We wanted to make sure it was learning from the best possible material."
   ]
  },
  {
   "cell_type": "code",
   "execution_count": 100,
   "metadata": {},
   "outputs": [
    {
     "data": {
      "text/plain": [
       "[('What does it mean to have a mental illness?',\n",
       "  'Mental illnesses are health conditions that disrupt a personaEUR(tm)s thoughts, emotions, relationships, and daily functioning. They are associated with distress and diminished capacity to engage in the ordinary activities of daily life.\\nMental illnesses fall along a continuum of severity: some are fairly mild and only interfere with some aspects of life, such as certain phobias. On the other end of the spectrum lie serious mental illnesses, which result in major functional impairment and interference with daily life. These include such disorders as major depression, schizophrenia, and bipolar disorder, and may require that the person receives care in a hospital.\\nIt is important to know that mental illnesses are medical conditions that have nothing to do with a personaEUR(tm)s character, intelligence, or willpower. Just as diabetes is a disorder of the pancreas, mental illness is a medical condition due to the brainaEUR(tm)s biology.\\nSimilarly to how one would treat diabetes with medication and insulin, mental illness is treatable with a combination of medication and social support. These treatments are highly effective, with 70-90 percent of individuals receiving treatment experiencing a reduction in symptoms and an improved quality of life. With the proper treatment, it is very possible for a person with mental illness to be independent and successful.'),\n",
       " ('Who does mental illness affect?',\n",
       "  'It is estimated that mental illness affects 1 in 5 adults in America, and that 1 in 24 adults have a serious mental illness. Mental illness does not discriminate; it can affect anyone, regardless of gender, age, income, social status, ethnicity, religion, sexual orientation, or background.\\nAlthough mental illness can affect anyone, certain conditions may be more common in different populations. For instance, eating disorders tend to occur more often in females, while disorders such as attention deficit/hyperactivity disorder is more prevalent in children.\\nAdditionally, all ages are susceptible, but the young and the old are especially vulnerable. Mental illnesses usually strike individuals in the prime of their lives, with 75 percent of mental health conditions developing by the age of 24. This makes identification and treatment of mental disorders particularly difficult, because the normal personality and behavioral changes of adolescence may mask symptoms of a mental health condition.\\nParents and caretakers should be aware of this fact, and take notice of changes in their childaEUR(tm)s mood, personality, personal habits, and social withdrawal. When these occur in children under 18, they are referred to as serious emotional disturbances (SEDs).'),\n",
       " ('What causes mental illness?',\n",
       "  \"It is estimated that mental illness affects 1 in 5 adults in America, and that 1 in 24 adults have a serious mental illness. Mental illness does not discriminate; it can affect anyone, regardless of gender, age, income, social status, ethnicity, religion, sexual orientation, or background. Although mental illness can affect anyone, certain conditions may be more common in different populations. For instance, eating disorders tend to occur more often in females, while disorders such as attention deficit/hyperactivity disorder is more prevalent in children. Additionally, all ages are susceptible, but the young and the old are especially vulnerable. Mental illnesses usually strike individuals in the prime of their lives, with 75 percent of mental health conditions developing by the age of 24. This makes identification and treatment of mental disorders particularly difficult, because the normal personality and behavioral changes of adolescence may mask symptoms of a mental health condition. Parents and caretakers should be aware of this fact, and take notice of changes in their child's mood, personality, personal habits, and social withdrawal. When these occur in children under 18, they are referred to as serious emotional disturbances (SEDs).\"),\n",
       " ('What are some of the warning signs of mental illness?',\n",
       "  'Symptoms of mental health disorders vary depending on the type and severity of the condition. The following is a list of general symptoms that may suggest a mental health disorder, particularly when multiple symptoms are expressed at once.\\nIn adults:\\nConfused thinking\\nLong-lasting sadness or irritability\\nExtreme highs and lows in mood\\nExcessive fear, worrying, or anxiety\\nSocial withdrawal\\nDramatic changes in eating or sleeping habits\\nStrong feelings of anger\\nDelusions or hallucinations (seeing or hearing things that are not really there)\\nIncreasing inability to cope with daily problems and activities\\nThoughts of suicide\\nDenial of obvious problems\\nMany unexplained physical problems\\nAbuse of drugs and/or alcohol\\n  In older children and pre-teens:\\nAbuse of drugs and/or alcohol\\nInability to cope with daily problems and activities\\nChanges in sleeping and/or eating habits\\nExcessive complaints of physical problems\\nDefying authority, skipping school, stealing, or damaging property\\nIntense fear of gaining weight\\nLong-lasting negative mood, often along with poor appetite and thoughts of death\\nFrequent outbursts of anger\\n  In younger children:\\nChanges in school performance\\nPoor grades despite strong efforts\\nExcessive worrying or anxiety\\nHyperactivity\\nPersistent nightmares\\nPersistent disobedience and/or aggressive behavior\\nFrequent temper tantrums'),\n",
       " ('Can people with mental illness recover?',\n",
       "  'When healing from mental illness, early identification and treatment are of vital importance. Based on the nature of the illness, there are a range of effective treatments available. For any type of treatment, it is essential that the person affected is proactive and fully engaged in their own recovery process.\\nMany people with mental illnesses who are diagnosed and treated respond well, although some might experience a return of symptoms. Even in such cases, with careful monitoring and management of the disorder, it is still quite possible to live a fulfilled and productive life.')]"
      ]
     },
     "execution_count": 100,
     "metadata": {},
     "output_type": "execute_result"
    }
   ],
   "source": [
    "qa_pairs = list(zip(df_cleaned['Questions'], df_cleaned['Answers']))\n",
    "qa_pairs[:5]"
   ]
  },
  {
   "cell_type": "markdown",
   "metadata": {},
   "source": [
    "### Train Chatbot"
   ]
  },
  {
   "cell_type": "markdown",
   "metadata": {},
   "source": [
    "We've got our question-answer pairs all lined up, kind of like our study guide. But before we could actually start teaching our chatbot, we needed to put everything in a format it could easily learn from. This might look a bit complex, but all we're doing is taking our pairs of questions and answers and laying them all out in a long line, one after the other. Imagine you have flashcards, and instead of flipping them one by one, you lay them all out in a row so you can see everything at once. That's what we're doing here but in a code way."
   ]
  },
  {
   "cell_type": "code",
   "execution_count": 105,
   "metadata": {},
   "outputs": [
    {
     "name": "stdout",
     "output_type": "stream",
     "text": [
      "['What does it mean to have a mental illness?', 'Mental illnesses are health conditions that disrupt a personaEUR(tm)s thoughts, emotions, relationships, and daily functioning. They are associated with distress and diminished capacity to engage in the ordinary activities of daily life.\\nMental illnesses fall along a continuum of severity: some are fairly mild and only interfere with some aspects of life, such as certain phobias. On the other end of the spectrum lie serious mental illnesses, which result in major functional impairment and interference with daily life. These include such disorders as major depression, schizophrenia, and bipolar disorder, and may require that the person receives care in a hospital.\\nIt is important to know that mental illnesses are medical conditions that have nothing to do with a personaEUR(tm)s character, intelligence, or willpower. Just as diabetes is a disorder of the pancreas, mental illness is a medical condition due to the brainaEUR(tm)s biology.\\nSimilarly to how one would treat diabetes with medication and insulin, mental illness is treatable with a combination of medication and social support. These treatments are highly effective, with 70-90 percent of individuals receiving treatment experiencing a reduction in symptoms and an improved quality of life. With the proper treatment, it is very possible for a person with mental illness to be independent and successful.', 'Who does mental illness affect?', 'It is estimated that mental illness affects 1 in 5 adults in America, and that 1 in 24 adults have a serious mental illness. Mental illness does not discriminate; it can affect anyone, regardless of gender, age, income, social status, ethnicity, religion, sexual orientation, or background.\\nAlthough mental illness can affect anyone, certain conditions may be more common in different populations. For instance, eating disorders tend to occur more often in females, while disorders such as attention deficit/hyperactivity disorder is more prevalent in children.\\nAdditionally, all ages are susceptible, but the young and the old are especially vulnerable. Mental illnesses usually strike individuals in the prime of their lives, with 75 percent of mental health conditions developing by the age of 24. This makes identification and treatment of mental disorders particularly difficult, because the normal personality and behavioral changes of adolescence may mask symptoms of a mental health condition.\\nParents and caretakers should be aware of this fact, and take notice of changes in their childaEUR(tm)s mood, personality, personal habits, and social withdrawal. When these occur in children under 18, they are referred to as serious emotional disturbances (SEDs).', 'What causes mental illness?', \"It is estimated that mental illness affects 1 in 5 adults in America, and that 1 in 24 adults have a serious mental illness. Mental illness does not discriminate; it can affect anyone, regardless of gender, age, income, social status, ethnicity, religion, sexual orientation, or background. Although mental illness can affect anyone, certain conditions may be more common in different populations. For instance, eating disorders tend to occur more often in females, while disorders such as attention deficit/hyperactivity disorder is more prevalent in children. Additionally, all ages are susceptible, but the young and the old are especially vulnerable. Mental illnesses usually strike individuals in the prime of their lives, with 75 percent of mental health conditions developing by the age of 24. This makes identification and treatment of mental disorders particularly difficult, because the normal personality and behavioral changes of adolescence may mask symptoms of a mental health condition. Parents and caretakers should be aware of this fact, and take notice of changes in their child's mood, personality, personal habits, and social withdrawal. When these occur in children under 18, they are referred to as serious emotional disturbances (SEDs).\", 'What are some of the warning signs of mental illness?', 'Symptoms of mental health disorders vary depending on the type and severity of the condition. The following is a list of general symptoms that may suggest a mental health disorder, particularly when multiple symptoms are expressed at once.\\nIn adults:\\nConfused thinking\\nLong-lasting sadness or irritability\\nExtreme highs and lows in mood\\nExcessive fear, worrying, or anxiety\\nSocial withdrawal\\nDramatic changes in eating or sleeping habits\\nStrong feelings of anger\\nDelusions or hallucinations (seeing or hearing things that are not really there)\\nIncreasing inability to cope with daily problems and activities\\nThoughts of suicide\\nDenial of obvious problems\\nMany unexplained physical problems\\nAbuse of drugs and/or alcohol\\n  In older children and pre-teens:\\nAbuse of drugs and/or alcohol\\nInability to cope with daily problems and activities\\nChanges in sleeping and/or eating habits\\nExcessive complaints of physical problems\\nDefying authority, skipping school, stealing, or damaging property\\nIntense fear of gaining weight\\nLong-lasting negative mood, often along with poor appetite and thoughts of death\\nFrequent outbursts of anger\\n  In younger children:\\nChanges in school performance\\nPoor grades despite strong efforts\\nExcessive worrying or anxiety\\nHyperactivity\\nPersistent nightmares\\nPersistent disobedience and/or aggressive behavior\\nFrequent temper tantrums', 'Can people with mental illness recover?', 'When healing from mental illness, early identification and treatment are of vital importance. Based on the nature of the illness, there are a range of effective treatments available. For any type of treatment, it is essential that the person affected is proactive and fully engaged in their own recovery process.\\nMany people with mental illnesses who are diagnosed and treated respond well, although some might experience a return of symptoms. Even in such cases, with careful monitoring and management of the disorder, it is still quite possible to live a fulfilled and productive life.']\n"
     ]
    }
   ],
   "source": [
    "flat_list = [item for pair in qa_pairs for item in pair]\n",
    "print(flat_list[:10])"
   ]
  },
  {
   "cell_type": "markdown",
   "metadata": {},
   "source": [
    "In the code below, we proceeded to initiate the training phase for our chatbot utilizing a tailored approach with the ListTrainer module. This module is specifically designed for sequential training sessions where a structured list of question and answer pairs is presented as the training dataset. The decision to employ ListTrainer was strategic, aimed at optimizing the learning process through direct and focused exposure to the prepared dataset."
   ]
  },
  {
   "cell_type": "code",
   "execution_count": 102,
   "metadata": {},
   "outputs": [
    {
     "name": "stdout",
     "output_type": "stream",
     "text": [
      "List Trainer: [####################] 100%\n"
     ]
    }
   ],
   "source": [
    "custom_trainer = ListTrainer(chatbot)"
   ]
  },
  {
   "cell_type": "markdown",
   "metadata": {},
   "source": [
    "Now we got to the actual training part with our custom dataset, we wrapped the training command in a try-except block, which is just our way of being cautious. If anything unexpected happens during training, instead of crashing or stopping, our code will catch the problem and let us know what went wrong. It's kind of like having a safety net while learning to do something new — it makes sure we can fix things without losing progress."
   ]
  },
  {
   "cell_type": "code",
   "execution_count": 106,
   "metadata": {},
   "outputs": [
    {
     "name": "stdout",
     "output_type": "stream",
     "text": [
      "List Trainer: [####################] 100%\n"
     ]
    }
   ],
   "source": [
    "try:\n",
    "    custom_trainer.train(flat_list)\n",
    "except Exception as e:\n",
    "    print(f\"An error occurred during training: {e}\")"
   ]
  },
  {
   "cell_type": "markdown",
   "metadata": {},
   "source": [
    "#### Simple test"
   ]
  },
  {
   "cell_type": "markdown",
   "metadata": {},
   "source": [
    "After we trained our chatbot with all those questions and answers, we wanted to see how well it learned. So, we decided to ask it something straight out of the topics it studied: \"What causes mental illness?\" This is kind of like a pop quiz to test its knowledge. Here’s what we did:"
   ]
  },
  {
   "cell_type": "code",
   "execution_count": 104,
   "metadata": {},
   "outputs": [
    {
     "name": "stdout",
     "output_type": "stream",
     "text": [
      "It is estimated that mental illness affects 1 in 5 adults in America, and that 1 in 24 adults have a serious mental illness. Mental illness does not discriminate; it can affect anyone, regardless of gender, age, income, social status, ethnicity, religion, sexual orientation, or background. Although mental illness can affect anyone, certain conditions may be more common in different populations. For instance, eating disorders tend to occur more often in females, while disorders such as attention deficit/hyperactivity disorder is more prevalent in children. Additionally, all ages are susceptible, but the young and the old are especially vulnerable. Mental illnesses usually strike individuals in the prime of their lives, with 75 percent of mental health conditions developing by the age of 24. This makes identification and treatment of mental disorders particularly difficult, because the normal personality and behavioral changes of adolescence may mask symptoms of a mental health condition. Parents and caretakers should be aware of this fact, and take notice of changes in their child's mood, personality, personal habits, and social withdrawal. When these occur in children under 18, they are referred to as serious emotional disturbances (SEDs).\n"
     ]
    }
   ],
   "source": [
    "response = chatbot.get_response(\"What causes mental illness?\")\n",
    "print(response)"
   ]
  },
  {
   "cell_type": "markdown",
   "metadata": {},
   "source": [
    "This line of code is basically us asking the chatbot a question to see how it would answer, based on everything it has learned. It's a way to check if our training paid off and if the chatbot can really understand and respond to the kind of questions people might ask it."
   ]
  },
  {
   "cell_type": "markdown",
   "metadata": {},
   "source": [
    "### Test Data Prepration"
   ]
  },
  {
   "cell_type": "markdown",
   "metadata": {},
   "source": [
    "First, we picked out a small set of our cleaned-up data to use as test questions. We didn't want to use too much; just enough to get a good sense of how well the chatbot had learned. We decided on 10% of the data, which is a nice, manageable amount. To make sure we could repeat this test if we needed to and get the same questions each time, we used a fixed setting called random_state. Next, we had to prep this test data so it was ready to go for our chatbot's evaluation. This meant turning each question and its corresponding answer into a format that our test could work with easily. Basically, we created a list where each item was a mini-dictionary with the question and the expected answer. This way, we could feed each question to the chatbot and check if the answer it gave us matched the expected one."
   ]
  },
  {
   "cell_type": "code",
   "execution_count": 107,
   "metadata": {},
   "outputs": [],
   "source": [
    "test_data = df_cleaned.sample(frac=0.1, random_state=42)\n",
    "\n",
    "# Prepare the test dataset in the format expected by the evaluation function.\n",
    "test_questions = [\n",
    "    {\"question\": row[\"Questions\"], \"expected_answer\": row[\"Answers\"]}\n",
    "    for _, row in test_data.iterrows()\n",
    "]"
   ]
  },
  {
   "cell_type": "code",
   "execution_count": 108,
   "metadata": {},
   "outputs": [
    {
     "data": {
      "text/plain": [
       "[{'question': \"What's the difference between antidepressants?\",\n",
       "  'expected_answer': 'There are many different types of antidepressant medications, and they each work in different ways. Antidepressants are divided into \"classes\" based on what they do and which chemical messengers in the brain (called neurotransmitters) they are thought to influence. Each class may contain several different medications, which each have slightly different ways of working. Below, you\\'ll find common classes and examples of common medications. The first name is the generic name and name in brackets is the brand name. \\n SSRIs or selective serotonin reuptake inhibitors: fluoxetine (Prozac), paroxetine (Paxil), citalopram (Celexa), escitalopram (Cipralex), and sertraline (Zoloft) \\n SNRIs or serotonin and norepinephrine reuptake inhibitors: venlafaxine (Effexor) and duloxetine (Cymbalta) \\n NDRIs or norepinephrine-dopamine reuptake inhibitors: bupropion (Wellbutrin and Zyban) \\n NaSSAs or noradrenergic and specific serotonergic antidepressants: mirtazapine (Remeron), which can also be classed as a TeCa or tetracyclic antidepressant \\n SARIs or serotonin antagonist and reuptake inhibitors: trazodone (Desyrel) \\n There are other classes of antidepressants (such as MAOIs or triclycics) that are much older and have more side effects or restrictions. They are usually prescribed when newer antidepressants don\\'t work. Other medications such as lithium, thyroid medication, or antipsychotics may also be prescribed, often in combination with an antidepressant to boost its effect. Antidepressants are not only used to treat depression--they may be prescribed to treat other illnesses like anxiety disorders. \\n Only medical doctors like family doctors or psychiatrists can prescribe antidepressants. If your doctor recommends that you consider antidepressants, keep in mind that most people have to try a few different options before they find the right medication. It can be a frustrating process, especially when you feel unwell, but it\\'s important to find something that works for you! Side effects and benefits can vary significantly between different people, and it\\'s difficult to predict how a medication might work without trying it out first. Everyone responds to them differently. It\\'s very important to have ongoing discussions with your health care team regarding your medication so you can bring up any problems or concerns--or even ask more about how your particular antidepressant works.'}]"
      ]
     },
     "execution_count": 108,
     "metadata": {},
     "output_type": "execute_result"
    }
   ],
   "source": [
    "test_questions[:1]"
   ]
  },
  {
   "cell_type": "markdown",
   "metadata": {},
   "source": [
    "### Chatbot Evaluation"
   ]
  },
  {
   "cell_type": "markdown",
   "metadata": {},
   "source": [
    "To figure out how well our chatbot understands and responds to questions, we use something called cosine similarity, which is comparing how close the chatbot's answer is to the correct answer."
   ]
  },
  {
   "cell_type": "markdown",
   "metadata": {},
   "source": [
    "We start with two tools from the scikit-learn library:\n",
    "\n"
   ]
  },
  {
   "cell_type": "markdown",
   "metadata": {},
   "source": [
    "<strong>TfidfVectorizer</strong>: This helps us transform the text (both the chatbot's response and the expected answer) into a numerical form that reflects the importance of words within the text. It’s like highlighting the most important words in a sentence to see how well they match up."
   ]
  },
  {
   "cell_type": "markdown",
   "metadata": {},
   "source": [
    "<strong>cosine_similarity</strong>: This compares the highlighted words to see how similar the chatbot's answer is to the expected answer."
   ]
  },
  {
   "cell_type": "markdown",
   "metadata": {},
   "source": [
    "The <strong>calculate_similarity</strong> function takes the chatbot's response and the expected answer, turns them into a numerical form with TfidfVectorizer, and then calculates how similar these two forms are using cosine similarity. The closer the similarity score is to 1, the more similar the responses are."
   ]
  },
  {
   "cell_type": "code",
   "execution_count": null,
   "metadata": {},
   "outputs": [],
   "source": [
    "from sklearn.metrics.pairwise import cosine_similarity\n",
    "from sklearn.feature_extraction.text import TfidfVectorizer\n",
    "\n",
    "\n",
    "def calculate_similarity(response, expected_answer):\n",
    "    vectorizer = TfidfVectorizer().fit_transform([response, expected_answer])\n",
    "    vectors = vectorizer.toarray()\n",
    "    similarity = cosine_similarity([vectors[0]], [vectors[1]])[0][0]\n",
    "    return similarity"
   ]
  },
  {
   "cell_type": "markdown",
   "metadata": {},
   "source": [
    "In the evaluate_chatbot function, we run through all the test questions, get the chatbot's responses, and calculate the similarity for each pair. If the similarity is above 50%, we count it as a correct response"
   ]
  },
  {
   "cell_type": "markdown",
   "metadata": {},
   "source": [
    "For each question-answer pair:\n",
    "<ul>\n",
    "  <li>We calculate the similarity score.</li>\n",
    "  <li>If the score is more than 50%, it’s considered correct, and we note that.</li>\n",
    "  <li>Regardless of the score, we print out a status report showing the question, expected answer, chatbot’s response, and how similar they were.</li>\n",
    "</ul>  \n",
    "<br>\n",
    "After going through all the questions, we calculate the overall accuracy (how many were above 50% similarity) and the average similarity score across all responses."
   ]
  },
  {
   "cell_type": "code",
   "execution_count": 109,
   "metadata": {},
   "outputs": [],
   "source": [
    "def evaluate_chatbot(chatbot, test_questions):\n",
    "    correct_responses = 0\n",
    "    total_similarity = 0\n",
    "    for index, test in enumerate(test_questions, start=1):\n",
    "        response = chatbot.get_response(test[\"question\"]).text\n",
    "        similarity = calculate_similarity(response, test[\"expected_answer\"])\n",
    "        total_similarity += similarity\n",
    "\n",
    "        similarity_percentage = similarity * 100\n",
    "\n",
    "\n",
    "        if similarity > 0.5:\n",
    "            correct_responses += 1\n",
    "            print(\"Status: Correct\")\n",
    "            print(f\"Question {index}\")\n",
    "            print(f\"Similarity Score: {similarity_percentage:.2f}%\")\n",
    "\n",
    "        else:\n",
    "            print(\"Status: Incorrect\")\n",
    "            print(f\"Question {index}: {test['question']}\")\n",
    "            print(\"Question:\", test[\"question\"])\n",
    "            print(\"Expected Answer:\", test[\"expected_answer\"])\n",
    "            print(\"Chatbot Response:\", response)\n",
    "            print(\"Similarity Score:\", similarity)\n",
    "\n",
    "        print(\"-\" * 50)\n",
    "\n",
    "    average_similarity = (total_similarity / len(test_questions)) * 100\n",
    "    accuracy = (correct_responses / len(test_questions)) * 100\n",
    "    print(f\"Accuracy based on threshold: {accuracy:.2f}% ({correct_responses}/{len(test_questions)})\")\n",
    "    print(f\"Average Similarity: {average_similarity:.2f}%\")\n",
    "    return accuracy, average_similarity"
   ]
  },
  {
   "cell_type": "markdown",
   "metadata": {},
   "source": [
    "By calling our <strong>evaluate_chatbot()</strong> function pass our chatbot and test_question we can start evaluation"
   ]
  },
  {
   "cell_type": "code",
   "execution_count": 110,
   "metadata": {},
   "outputs": [
    {
     "name": "stdout",
     "output_type": "stream",
     "text": [
      "Status: Correct\n",
      "Question 1\n",
      "Similarity Score: 100.00%\n",
      "--------------------------------------------------\n",
      "Status: Correct\n",
      "Question 2\n",
      "Similarity Score: 100.00%\n",
      "--------------------------------------------------\n",
      "Status: Correct\n",
      "Question 3\n",
      "Similarity Score: 100.00%\n",
      "--------------------------------------------------\n",
      "Status: Correct\n",
      "Question 4\n",
      "Similarity Score: 100.00%\n",
      "--------------------------------------------------\n",
      "Status: Correct\n",
      "Question 5\n",
      "Similarity Score: 100.00%\n",
      "--------------------------------------------------\n",
      "Status: Correct\n",
      "Question 6\n",
      "Similarity Score: 100.00%\n",
      "--------------------------------------------------\n",
      "Status: Correct\n",
      "Question 7\n",
      "Similarity Score: 100.00%\n",
      "--------------------------------------------------\n",
      "Status: Correct\n",
      "Question 8\n",
      "Similarity Score: 100.00%\n",
      "--------------------------------------------------\n",
      "Status: Correct\n",
      "Question 9\n",
      "Similarity Score: 100.00%\n",
      "--------------------------------------------------\n",
      "Status: Correct\n",
      "Question 10\n",
      "Similarity Score: 100.00%\n",
      "--------------------------------------------------\n",
      "Accuracy based on threshold: 100.00% (10/10)\n",
      "Average Similarity: 100.00%\n"
     ]
    },
    {
     "data": {
      "text/plain": [
       "(100.0, 99.99999999999997)"
      ]
     },
     "execution_count": 110,
     "metadata": {},
     "output_type": "execute_result"
    }
   ],
   "source": [
    "evaluate_chatbot(chatbot,test_questions)"
   ]
  },
  {
   "cell_type": "markdown",
   "metadata": {},
   "source": [
    "### Evaluation with Chatterbot corpus dataset"
   ]
  },
  {
   "cell_type": "markdown",
   "metadata": {},
   "source": [
    "The json.load() function is then used to read the contents of the file and parse it into a Python dictionary. This function takes the file object returned by open() as input and returns a dictionary containing the data stored in the JSON file. The parsed data is stored in a variable named data, making it accessible for further processing or analysis within the Python script. The variable data now holds the contents of the JSON file in the form of a dictionary."
   ]
  },
  {
   "cell_type": "code",
   "execution_count": 113,
   "metadata": {},
   "outputs": [],
   "source": [
    "import json\n",
    "\n",
    "# Load the dataset\n",
    "with open('./chatterbot_corpus_ds.json', 'r') as file:\n",
    "    data = json.load(file)"
   ]
  },
  {
   "cell_type": "markdown",
   "metadata": {},
   "source": [
    "The data variable contains structured data loaded from the JSON file, and it have a key named \"conversations\". This key holds a list of pairs representing conversations or question-answer pairs."
   ]
  },
  {
   "cell_type": "markdown",
   "metadata": {},
   "source": [
    "We use a list comprehension to iterate over each pair in the list under the \"conversations\" key. For each pair, we creates a dictionary with keys \"question\" and \"expected_answer\". These keys represent the question and its expected answer, respectively."
   ]
  },
  {
   "cell_type": "code",
   "execution_count": 114,
   "metadata": {},
   "outputs": [],
   "source": [
    "test_questions = [{\"question\": pair[0], \"expected_answer\": pair[1]}\n",
    "                  for pair in data[\"conversations\"]]"
   ]
  },
  {
   "cell_type": "code",
   "execution_count": 120,
   "metadata": {},
   "outputs": [
    {
     "data": {
      "text/plain": [
       "2321"
      ]
     },
     "execution_count": 120,
     "metadata": {},
     "output_type": "execute_result"
    }
   ],
   "source": [
    "len(test_questions)"
   ]
  },
  {
   "cell_type": "markdown",
   "metadata": {},
   "source": [
    "We can start our evaluation by calling our function and passing two arguments"
   ]
  },
  {
   "cell_type": "code",
   "execution_count": null,
   "metadata": {},
   "outputs": [],
   "source": [
    "evaluate_chatbot(chatbot, test_questions)"
   ]
  },
  {
   "cell_type": "code",
   "execution_count": null,
   "metadata": {},
   "outputs": [],
   "source": []
  }
 ],
 "metadata": {
  "kernelspec": {
   "display_name": "chatbot-aTaNQHtA",
   "language": "python",
   "name": "python3"
  },
  "language_info": {
   "codemirror_mode": {
    "name": "ipython",
    "version": 3
   },
   "file_extension": ".py",
   "mimetype": "text/x-python",
   "name": "python",
   "nbconvert_exporter": "python",
   "pygments_lexer": "ipython3",
   "version": "3.7.17"
  }
 },
 "nbformat": 4,
 "nbformat_minor": 2
}
