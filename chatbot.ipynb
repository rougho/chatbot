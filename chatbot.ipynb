{
 "cells": [
  {
   "cell_type": "markdown",
   "metadata": {},
   "source": [
    "# Quastion & Answering Chatbot\n",
    "###### Python 3.7.13"
   ]
  },
  {
   "cell_type": "code",
   "execution_count": null,
   "metadata": {},
   "outputs": [],
   "source": []
  },
  {
   "cell_type": "markdown",
   "metadata": {},
   "source": []
  },
  {
   "cell_type": "code",
   "execution_count": null,
   "metadata": {
    "slideshow": {
     "slide_type": "notes"
    }
   },
   "outputs": [],
   "source": []
  },
  {
   "cell_type": "code",
   "execution_count": 1,
   "metadata": {},
   "outputs": [
    {
     "name": "stdout",
     "output_type": "stream",
     "text": [
      "Defaulting to user installation because normal site-packages is not writeable\n",
      "Requirement already satisfied: chatterbot==1.0.4 in /home/rohi/.local/lib/python3.7/site-packages (1.0.4)\n",
      "Requirement already satisfied: pytz in /home/rohi/.local/lib/python3.7/site-packages (2024.1)\n",
      "Requirement already satisfied: chatterbot-corpus<1.3,>=1.2 in /home/rohi/.local/lib/python3.7/site-packages (from chatterbot==1.0.4) (1.2.0)\n",
      "Requirement already satisfied: mathparse<0.2,>=0.1 in /home/rohi/.local/lib/python3.7/site-packages (from chatterbot==1.0.4) (0.1.2)\n",
      "Requirement already satisfied: nltk<4.0,>=3.2 in /home/rohi/.local/lib/python3.7/site-packages (from chatterbot==1.0.4) (3.8.1)\n",
      "Requirement already satisfied: pymongo<4.0,>=3.3 in /home/rohi/.local/lib/python3.7/site-packages (from chatterbot==1.0.4) (3.13.0)\n",
      "Requirement already satisfied: python-dateutil<2.8,>=2.7 in /home/rohi/.local/lib/python3.7/site-packages (from chatterbot==1.0.4) (2.7.5)\n",
      "Requirement already satisfied: sqlalchemy<1.3,>=1.2 in /home/rohi/.local/lib/python3.7/site-packages (from chatterbot==1.0.4) (1.2.19)\n",
      "Requirement already satisfied: pint>=0.8.1 in /home/rohi/.local/lib/python3.7/site-packages (from chatterbot==1.0.4) (0.18)\n",
      "Requirement already satisfied: PyYAML<4.0,>=3.12 in /home/rohi/.local/lib/python3.7/site-packages (from chatterbot-corpus<1.3,>=1.2->chatterbot==1.0.4) (3.13)\n",
      "Requirement already satisfied: click in /home/rohi/.local/lib/python3.7/site-packages (from nltk<4.0,>=3.2->chatterbot==1.0.4) (8.1.7)\n",
      "Requirement already satisfied: joblib in /home/rohi/.local/lib/python3.7/site-packages (from nltk<4.0,>=3.2->chatterbot==1.0.4) (1.3.2)\n",
      "Requirement already satisfied: regex>=2021.8.3 in /home/rohi/.local/lib/python3.7/site-packages (from nltk<4.0,>=3.2->chatterbot==1.0.4) (2023.12.25)\n",
      "Requirement already satisfied: tqdm in /home/rohi/.local/lib/python3.7/site-packages (from nltk<4.0,>=3.2->chatterbot==1.0.4) (4.66.2)\n",
      "Requirement already satisfied: packaging in /home/rohi/.local/lib/python3.7/site-packages (from pint>=0.8.1->chatterbot==1.0.4) (23.2)\n",
      "Requirement already satisfied: importlib-metadata in /home/rohi/.local/lib/python3.7/site-packages (from pint>=0.8.1->chatterbot==1.0.4) (6.7.0)\n",
      "Requirement already satisfied: six>=1.5 in /home/rohi/.local/lib/python3.7/site-packages (from python-dateutil<2.8,>=2.7->chatterbot==1.0.4) (1.16.0)\n",
      "Requirement already satisfied: zipp>=0.5 in /home/rohi/.local/lib/python3.7/site-packages (from importlib-metadata->pint>=0.8.1->chatterbot==1.0.4) (3.15.0)\n",
      "Requirement already satisfied: typing-extensions>=3.6.4 in /home/rohi/.local/lib/python3.7/site-packages (from importlib-metadata->pint>=0.8.1->chatterbot==1.0.4) (4.7.1)\n"
     ]
    }
   ],
   "source": [
    "!python3.7 -m pip install chatterbot==1.0.4 pytz"
   ]
  },
  {
   "cell_type": "markdown",
   "metadata": {},
   "source": [
    "#### Simple Chatterbot Example\n"
   ]
  },
  {
   "cell_type": "markdown",
   "metadata": {},
   "source": [
    "We first import modules and libraries we need, such as ChatBot and ListTrainer from chatterbot. Then we create an instance of the ChatBot class and store it into a variable (chatbot here). To train our chatbot to give appropiate response, we start with small amout of data. We simply write a conditional statement usuing while loop that the loop will keep going as long as user have not entered special charachter or string via input, in the loop, user type their message, we store it in a variable named 'query' check if the user did or did not user the special charachter we defined to exit the loop, if they did loop will break and our program ends, if not, we call 'get_response' fucntion from our chatbot instance earlier and pass our 'query' which is the user message to the fucntion and what it will return is the response to the message, the accuracy and quality of the responses depends on the quality and the amount of the data our chatbot got trained with."
   ]
  },
  {
   "cell_type": "markdown",
   "metadata": {},
   "source": [
    "By running the next block, ChatterBot might download some data and language models associated with NLTK."
   ]
  },
  {
   "cell_type": "code",
   "execution_count": 9,
   "metadata": {},
   "outputs": [
    {
     "name": "stdout",
     "output_type": "stream",
     "text": [
      "List Trainer: [####################] 100%"
     ]
    },
    {
     "name": "stderr",
     "output_type": "stream",
     "text": [
      "[nltk_data] Downloading package averaged_perceptron_tagger to\n",
      "[nltk_data]     /home/rohi/nltk_data...\n",
      "[nltk_data]   Package averaged_perceptron_tagger is already up-to-\n",
      "[nltk_data]       date!\n",
      "[nltk_data] Downloading package punkt to /home/rohi/nltk_data...\n",
      "[nltk_data]   Package punkt is already up-to-date!\n",
      "[nltk_data] Downloading package stopwords to /home/rohi/nltk_data...\n",
      "[nltk_data]   Package stopwords is already up-to-date!\n"
     ]
    },
    {
     "name": "stdout",
     "output_type": "stream",
     "text": [
      "\n",
      "You: Hi\n",
      "Bot: hi\n",
      "You: How are you doing?\n",
      "Bot: q:\n",
      "You: I need to book flight\n",
      "Bot: Your flight has been booked.\n",
      "You: :q\n"
     ]
    }
   ],
   "source": [
    "from chatterbot import ChatBot\n",
    "from chatterbot.trainers import ListTrainer\n",
    "\n",
    "chatbot = ChatBot(\"Rohi&Bahadir\")\n",
    "\n",
    "trainer = ListTrainer(chatbot)\n",
    "\n",
    "trainer.train([\n",
    "    \"Hi, can I help you?\",\n",
    "    \"Sure, I'd like to book a flight to Iceland.\",\n",
    "    \"Your flight has been booked.\"\n",
    "])\n",
    "\n",
    "exit_conditions = (\":q\", \"quit\", \"exit\")\n",
    "while True:\n",
    "    query = input(\">>>  \")\n",
    "    print(f\"You: {query}\")\n",
    "    if query in exit_conditions:\n",
    "        break\n",
    "    else:\n",
    "        print(f\"Bot: {chatbot.get_response(query)}\")"
   ]
  },
  {
   "cell_type": "markdown",
   "metadata": {},
   "source": [
    "As we said erlier, the chatbot did not trained well yet, has very limited responses, but, by keep running it and have conversation eith it, it do remember your previous conversation."
   ]
  },
  {
   "cell_type": "markdown",
   "metadata": {},
   "source": [
    "Chatterbot require database to store all inputs and connect them with possible responses, to do that, by default, it uses SQLite database file.\n"
   ]
  },
  {
   "cell_type": "markdown",
   "metadata": {},
   "source": [
    "Chatterbot will create a file named \"db.sqlite3\" to mainly store all inputs and possible corresponding answers, and two other with same name expect they ending with \"wal\" and \"-shm\" which they are temporary support files."
   ]
  },
  {
   "cell_type": "markdown",
   "metadata": {},
   "source": []
  },
  {
   "cell_type": "code",
   "execution_count": 35,
   "metadata": {},
   "outputs": [],
   "source": [
    "import pandas as pd"
   ]
  },
  {
   "cell_type": "code",
   "execution_count": 36,
   "metadata": {},
   "outputs": [
    {
     "data": {
      "text/html": [
       "<div>\n",
       "<style scoped>\n",
       "    .dataframe tbody tr th:only-of-type {\n",
       "        vertical-align: middle;\n",
       "    }\n",
       "\n",
       "    .dataframe tbody tr th {\n",
       "        vertical-align: top;\n",
       "    }\n",
       "\n",
       "    .dataframe thead th {\n",
       "        text-align: right;\n",
       "    }\n",
       "</style>\n",
       "<table border=\"1\" class=\"dataframe\">\n",
       "  <thead>\n",
       "    <tr style=\"text-align: right;\">\n",
       "      <th></th>\n",
       "      <th>Question_ID</th>\n",
       "      <th>Questions</th>\n",
       "      <th>Answers</th>\n",
       "    </tr>\n",
       "  </thead>\n",
       "  <tbody>\n",
       "    <tr>\n",
       "      <th>0</th>\n",
       "      <td>1590140</td>\n",
       "      <td>What does it mean to have a mental illness?</td>\n",
       "      <td>Mental illnesses are health conditions that di...</td>\n",
       "    </tr>\n",
       "    <tr>\n",
       "      <th>1</th>\n",
       "      <td>2110618</td>\n",
       "      <td>Who does mental illness affect?</td>\n",
       "      <td>It is estimated that mental illness affects 1 ...</td>\n",
       "    </tr>\n",
       "    <tr>\n",
       "      <th>2</th>\n",
       "      <td>6361820</td>\n",
       "      <td>What causes mental illness?</td>\n",
       "      <td>It is estimated that mental illness affects 1 ...</td>\n",
       "    </tr>\n",
       "    <tr>\n",
       "      <th>3</th>\n",
       "      <td>9434130</td>\n",
       "      <td>What are some of the warning signs of mental i...</td>\n",
       "      <td>Symptoms of mental health disorders vary depen...</td>\n",
       "    </tr>\n",
       "    <tr>\n",
       "      <th>4</th>\n",
       "      <td>7657263</td>\n",
       "      <td>Can people with mental illness recover?</td>\n",
       "      <td>When healing from mental illness, early identi...</td>\n",
       "    </tr>\n",
       "    <tr>\n",
       "      <th>...</th>\n",
       "      <td>...</td>\n",
       "      <td>...</td>\n",
       "      <td>...</td>\n",
       "    </tr>\n",
       "    <tr>\n",
       "      <th>93</th>\n",
       "      <td>4373204</td>\n",
       "      <td>How do I know if I'm drinking too much?</td>\n",
       "      <td>Sorting out if you are drinking too much can b...</td>\n",
       "    </tr>\n",
       "    <tr>\n",
       "      <th>94</th>\n",
       "      <td>7807643</td>\n",
       "      <td>If cannabis is dangerous, why are we legalizin...</td>\n",
       "      <td>Cannabis smoke, for example, contains cancer-c...</td>\n",
       "    </tr>\n",
       "    <tr>\n",
       "      <th>95</th>\n",
       "      <td>4352464</td>\n",
       "      <td>How can I convince my kids not to use drugs?</td>\n",
       "      <td>You can't. But you can influence their capacit...</td>\n",
       "    </tr>\n",
       "    <tr>\n",
       "      <th>96</th>\n",
       "      <td>6521784</td>\n",
       "      <td>What is the legal status (and evidence) of CBD...</td>\n",
       "      <td>Cannabidiol or CBD is a naturally occurring co...</td>\n",
       "    </tr>\n",
       "    <tr>\n",
       "      <th>97</th>\n",
       "      <td>3221856</td>\n",
       "      <td>What is the evidence on vaping?</td>\n",
       "      <td>\"Vaping\" is the term for using a device where ...</td>\n",
       "    </tr>\n",
       "  </tbody>\n",
       "</table>\n",
       "<p>98 rows × 3 columns</p>\n",
       "</div>"
      ],
      "text/plain": [
       "    Question_ID                                          Questions  \\\n",
       "0       1590140        What does it mean to have a mental illness?   \n",
       "1       2110618                    Who does mental illness affect?   \n",
       "2       6361820                        What causes mental illness?   \n",
       "3       9434130  What are some of the warning signs of mental i...   \n",
       "4       7657263            Can people with mental illness recover?   \n",
       "..          ...                                                ...   \n",
       "93      4373204            How do I know if I'm drinking too much?   \n",
       "94      7807643  If cannabis is dangerous, why are we legalizin...   \n",
       "95      4352464       How can I convince my kids not to use drugs?   \n",
       "96      6521784  What is the legal status (and evidence) of CBD...   \n",
       "97      3221856                    What is the evidence on vaping?   \n",
       "\n",
       "                                              Answers  \n",
       "0   Mental illnesses are health conditions that di...  \n",
       "1   It is estimated that mental illness affects 1 ...  \n",
       "2   It is estimated that mental illness affects 1 ...  \n",
       "3   Symptoms of mental health disorders vary depen...  \n",
       "4   When healing from mental illness, early identi...  \n",
       "..                                                ...  \n",
       "93  Sorting out if you are drinking too much can b...  \n",
       "94  Cannabis smoke, for example, contains cancer-c...  \n",
       "95  You can't. But you can influence their capacit...  \n",
       "96  Cannabidiol or CBD is a naturally occurring co...  \n",
       "97  \"Vaping\" is the term for using a device where ...  \n",
       "\n",
       "[98 rows x 3 columns]"
      ]
     },
     "execution_count": 36,
     "metadata": {},
     "output_type": "execute_result"
    }
   ],
   "source": [
    "df = pd.read_csv('data/Mental_Health_FAQ.csv')\n",
    "df"
   ]
  },
  {
   "cell_type": "markdown",
   "metadata": {},
   "source": [
    "### Text cleaning and Normalization"
   ]
  },
  {
   "cell_type": "code",
   "execution_count": 81,
   "metadata": {},
   "outputs": [
    {
     "data": {
      "text/html": [
       "<div>\n",
       "<style scoped>\n",
       "    .dataframe tbody tr th:only-of-type {\n",
       "        vertical-align: middle;\n",
       "    }\n",
       "\n",
       "    .dataframe tbody tr th {\n",
       "        vertical-align: top;\n",
       "    }\n",
       "\n",
       "    .dataframe thead th {\n",
       "        text-align: right;\n",
       "    }\n",
       "</style>\n",
       "<table border=\"1\" class=\"dataframe\">\n",
       "  <thead>\n",
       "    <tr style=\"text-align: right;\">\n",
       "      <th></th>\n",
       "      <th>Questions</th>\n",
       "      <th>Answers</th>\n",
       "    </tr>\n",
       "  </thead>\n",
       "  <tbody>\n",
       "    <tr>\n",
       "      <th>0</th>\n",
       "      <td>what does it mean to have a mental illness</td>\n",
       "      <td>mental illnesses are health conditions that di...</td>\n",
       "    </tr>\n",
       "    <tr>\n",
       "      <th>1</th>\n",
       "      <td>who does mental illness affect</td>\n",
       "      <td>it is estimated that mental illness affects  i...</td>\n",
       "    </tr>\n",
       "    <tr>\n",
       "      <th>2</th>\n",
       "      <td>what causes mental illness</td>\n",
       "      <td>it is estimated that mental illness affects  i...</td>\n",
       "    </tr>\n",
       "    <tr>\n",
       "      <th>3</th>\n",
       "      <td>what are some of the warning signs of mental i...</td>\n",
       "      <td>symptoms of mental health disorders vary depen...</td>\n",
       "    </tr>\n",
       "    <tr>\n",
       "      <th>4</th>\n",
       "      <td>can people with mental illness recover</td>\n",
       "      <td>when healing from mental illness early identif...</td>\n",
       "    </tr>\n",
       "  </tbody>\n",
       "</table>\n",
       "</div>"
      ],
      "text/plain": [
       "                                           Questions  \\\n",
       "0         what does it mean to have a mental illness   \n",
       "1                     who does mental illness affect   \n",
       "2                         what causes mental illness   \n",
       "3  what are some of the warning signs of mental i...   \n",
       "4             can people with mental illness recover   \n",
       "\n",
       "                                             Answers  \n",
       "0  mental illnesses are health conditions that di...  \n",
       "1  it is estimated that mental illness affects  i...  \n",
       "2  it is estimated that mental illness affects  i...  \n",
       "3  symptoms of mental health disorders vary depen...  \n",
       "4  when healing from mental illness early identif...  "
      ]
     },
     "execution_count": 81,
     "metadata": {},
     "output_type": "execute_result"
    }
   ],
   "source": [
    "import re\n",
    "\n",
    "# Function to normalize text\n",
    "def normalize_text(text):\n",
    "    # Convert text to lowercase\n",
    "    text = text.lower()\n",
    "    # Remove punctuation\n",
    "    text = re.sub(r'[^\\w\\s]', '', text)\n",
    "    return text\n",
    "\n",
    "# Normalize the 'Questions' and 'Answers' columns\n",
    "df['Questions'] = df['Questions'].apply(normalize_text)\n",
    "df['Answers'] = df['Answers'].apply(normalize_text)\n",
    "\n",
    "# Display the first few rows to verify changes\n",
    "df.head()"
   ]
  },
  {
   "cell_type": "markdown",
   "metadata": {},
   "source": [
    "### Removing Duplicates"
   ]
  },
  {
   "cell_type": "code",
   "execution_count": 82,
   "metadata": {},
   "outputs": [],
   "source": [
    "missing_values = df.isnull().sum()\n",
    "duplicate_questions = df['Questions'].duplicated().sum()\n"
   ]
  },
  {
   "cell_type": "code",
   "execution_count": 96,
   "metadata": {},
   "outputs": [
    {
     "data": {
      "text/plain": [
       "(Questions    0\n",
       " Answers      0\n",
       " dtype: int64,\n",
       " 1)"
      ]
     },
     "execution_count": 96,
     "metadata": {},
     "output_type": "execute_result"
    }
   ],
   "source": [
    "missing_values, duplicate_questions"
   ]
  },
  {
   "cell_type": "markdown",
   "metadata": {},
   "source": [
    "### Preparing Data for Training"
   ]
  },
  {
   "cell_type": "code",
   "execution_count": 97,
   "metadata": {},
   "outputs": [
    {
     "name": "stderr",
     "output_type": "stream",
     "text": [
      "[nltk_data] Downloading package averaged_perceptron_tagger to\n",
      "[nltk_data]     /home/rohi/nltk_data...\n",
      "[nltk_data]   Package averaged_perceptron_tagger is already up-to-\n",
      "[nltk_data]       date!\n",
      "[nltk_data] Downloading package punkt to /home/rohi/nltk_data...\n",
      "[nltk_data]   Package punkt is already up-to-date!\n",
      "[nltk_data] Downloading package stopwords to /home/rohi/nltk_data...\n",
      "[nltk_data]   Package stopwords is already up-to-date!\n"
     ]
    }
   ],
   "source": [
    "from chatterbot import ChatBot\n",
    "chatbot = ChatBot(\"rohi&bahadir\")"
   ]
  },
  {
   "cell_type": "code",
   "execution_count": 98,
   "metadata": {},
   "outputs": [
    {
     "name": "stdout",
     "output_type": "stream",
     "text": [
      "Training ai.yml: [######              ] 30%"
     ]
    },
    {
     "name": "stdout",
     "output_type": "stream",
     "text": [
      "Training ai.yml: [####################] 100%\n",
      "Training botprofile.yml: [####################] 100%\n",
      "Training computers.yml: [####################] 100%\n",
      "Training conversations.yml: [####################] 100%\n",
      "Training emotion.yml: [####################] 100%\n",
      "Training food.yml: [####################] 100%\n",
      "Training gossip.yml: [####################] 100%\n",
      "Training greetings.yml: [####################] 100%\n",
      "Training health.yml: [####################] 100%\n",
      "Training history.yml: [####################] 100%\n",
      "Training humor.yml: [####################] 100%\n",
      "Training literature.yml: [####################] 100%\n",
      "Training money.yml: [####################] 100%\n",
      "Training movies.yml: [####################] 100%\n",
      "Training politics.yml: [####################] 100%\n",
      "Training psychology.yml: [####################] 100%\n",
      "Training science.yml: [####################] 100%\n",
      "Training sports.yml: [####################] 100%\n",
      "Training trivia.yml: [####################] 100%\n"
     ]
    }
   ],
   "source": [
    "from chatterbot.trainers import ChatterBotCorpusTrainer\n",
    "\n",
    "trainer = ChatterBotCorpusTrainer(chatbot)\n",
    "trainer.train(\"chatterbot.corpus.english\")"
   ]
  },
  {
   "cell_type": "code",
   "execution_count": 99,
   "metadata": {},
   "outputs": [
    {
     "name": "stdout",
     "output_type": "stream",
     "text": [
      "List Trainer: [####################] 100%\n"
     ]
    }
   ],
   "source": [
    "from chatterbot.trainers import ListTrainer\n",
    "\n",
    "training_data = df.apply(lambda row: [row['Questions'], row['Answers']], axis=1).tolist()\n",
    "\n",
    "flattened_training_data = [item for pair in training_data for item in pair]\n",
    "\n",
    "trainer = ListTrainer(chatbot)\n",
    "\n",
    "trainer.train(flattened_training_data)\n"
   ]
  },
  {
   "cell_type": "code",
   "execution_count": 100,
   "metadata": {},
   "outputs": [
    {
     "name": "stdout",
     "output_type": "stream",
     "text": [
      "You: what are you?\n",
      "Bot: I am just an artificial intelligence.\n",
      "You: What's the difference between anxiety and stress?\n",
      "Bot: stress and anxiety are often used interchangeably and there is overlap between stress and anxiety stress is related to the same fight flight or freeze response as anxiety and the physical sensations of anxiety and stress may be very similar the cause of stress and anxiety are usually different however stress focuses on mainly external pressures on us that were finding hard to cope with when we are stressed we usually know what were stressed about and the symptoms of stress typically disappear after the stressful situation is over anxiety on the other hand isnt always as easy to figure out anxiety focuses on worries or fears about things that could threaten us as well as anxiety about the anxiety itself stress and anxiety are both part of being human but both can be problems if they last for a long time or have an impact on our wellbeing or daily life\n",
      "You: What does rapid cycling mean?\n",
      "Bot: rapid cycling means that someone diagnosed with bipolar disorder or depression experiences four or more episodes of depression andor mania in one year rapid cycling can happen any time someone experiences bipolar disorderabout of people diagnosed with bipolar disorder experience rapid cycling at some point in many cases rapid cycling eventually goes away on its own and people return to a pattern of longer and less frequent episodes\n",
      "You: What is cyclothymic disorder?\n",
      "Bot: cyclothymic disorder is a subtype of bipolar disorder much like bipolar disorder the symptoms of cyclothymia include three or more symptoms of hypomania and five or more symptoms of depression like bipolar disorder people may experience wellness between episodes of hypomania and depression symptoms of hypomania include symptoms of depression include talk to a doctor or mental health professional if you think you might have cyclothymic disorder\n",
      "You: :q\n"
     ]
    }
   ],
   "source": [
    "exit_conditions = (\":q\", \"quit\", \"exit\")\n",
    "while True:\n",
    "    query = input(\">>>  \")\n",
    "    print(f\"You: {query}\")\n",
    "    if query in exit_conditions:\n",
    "        break\n",
    "    else:\n",
    "        print(f\"Bot: {chatbot.get_response(query)}\")"
   ]
  },
  {
   "cell_type": "code",
   "execution_count": null,
   "metadata": {},
   "outputs": [],
   "source": []
  }
 ],
 "metadata": {
  "kernelspec": {
   "display_name": "chatbot-aTaNQHtA",
   "language": "python",
   "name": "python3"
  },
  "language_info": {
   "codemirror_mode": {
    "name": "ipython",
    "version": 3
   },
   "file_extension": ".py",
   "mimetype": "text/x-python",
   "name": "python",
   "nbconvert_exporter": "python",
   "pygments_lexer": "ipython3",
   "version": "3.7.17"
  }
 },
 "nbformat": 4,
 "nbformat_minor": 2
}
