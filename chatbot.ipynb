{
 "cells": [
  {
   "cell_type": "markdown",
   "metadata": {},
   "source": [
    "# Quastion & Answering Chatbot\n",
    "###### Python 3.7.13"
   ]
  },
  {
   "cell_type": "code",
   "execution_count": null,
   "metadata": {},
   "outputs": [],
   "source": []
  },
  {
   "cell_type": "markdown",
   "metadata": {},
   "source": []
  },
  {
   "cell_type": "code",
   "execution_count": null,
   "metadata": {
    "slideshow": {
     "slide_type": "notes"
    }
   },
   "outputs": [],
   "source": []
  },
  {
   "cell_type": "code",
   "execution_count": 1,
   "metadata": {},
   "outputs": [
    {
     "name": "stdout",
     "output_type": "stream",
     "text": [
      "Defaulting to user installation because normal site-packages is not writeable\n",
      "Requirement already satisfied: chatterbot==1.0.4 in /home/rohi/.local/lib/python3.7/site-packages (1.0.4)\n",
      "Requirement already satisfied: pytz in /home/rohi/.local/lib/python3.7/site-packages (2024.1)\n",
      "Requirement already satisfied: chatterbot-corpus<1.3,>=1.2 in /home/rohi/.local/lib/python3.7/site-packages (from chatterbot==1.0.4) (1.2.0)\n",
      "Requirement already satisfied: mathparse<0.2,>=0.1 in /home/rohi/.local/lib/python3.7/site-packages (from chatterbot==1.0.4) (0.1.2)\n",
      "Requirement already satisfied: nltk<4.0,>=3.2 in /home/rohi/.local/lib/python3.7/site-packages (from chatterbot==1.0.4) (3.8.1)\n",
      "Requirement already satisfied: pymongo<4.0,>=3.3 in /home/rohi/.local/lib/python3.7/site-packages (from chatterbot==1.0.4) (3.13.0)\n",
      "Requirement already satisfied: python-dateutil<2.8,>=2.7 in /home/rohi/.local/lib/python3.7/site-packages (from chatterbot==1.0.4) (2.7.5)\n",
      "Requirement already satisfied: sqlalchemy<1.3,>=1.2 in /home/rohi/.local/lib/python3.7/site-packages (from chatterbot==1.0.4) (1.2.19)\n",
      "Requirement already satisfied: pint>=0.8.1 in /home/rohi/.local/lib/python3.7/site-packages (from chatterbot==1.0.4) (0.18)\n",
      "Requirement already satisfied: PyYAML<4.0,>=3.12 in /home/rohi/.local/lib/python3.7/site-packages (from chatterbot-corpus<1.3,>=1.2->chatterbot==1.0.4) (3.13)\n",
      "Requirement already satisfied: click in /home/rohi/.local/lib/python3.7/site-packages (from nltk<4.0,>=3.2->chatterbot==1.0.4) (8.1.7)\n",
      "Requirement already satisfied: joblib in /home/rohi/.local/lib/python3.7/site-packages (from nltk<4.0,>=3.2->chatterbot==1.0.4) (1.3.2)\n",
      "Requirement already satisfied: regex>=2021.8.3 in /home/rohi/.local/lib/python3.7/site-packages (from nltk<4.0,>=3.2->chatterbot==1.0.4) (2023.12.25)\n",
      "Requirement already satisfied: tqdm in /home/rohi/.local/lib/python3.7/site-packages (from nltk<4.0,>=3.2->chatterbot==1.0.4) (4.66.2)\n",
      "Requirement already satisfied: packaging in /home/rohi/.local/lib/python3.7/site-packages (from pint>=0.8.1->chatterbot==1.0.4) (23.2)\n",
      "Requirement already satisfied: importlib-metadata in /home/rohi/.local/lib/python3.7/site-packages (from pint>=0.8.1->chatterbot==1.0.4) (6.7.0)\n",
      "Requirement already satisfied: six>=1.5 in /home/rohi/.local/lib/python3.7/site-packages (from python-dateutil<2.8,>=2.7->chatterbot==1.0.4) (1.16.0)\n",
      "Requirement already satisfied: zipp>=0.5 in /home/rohi/.local/lib/python3.7/site-packages (from importlib-metadata->pint>=0.8.1->chatterbot==1.0.4) (3.15.0)\n",
      "Requirement already satisfied: typing-extensions>=3.6.4 in /home/rohi/.local/lib/python3.7/site-packages (from importlib-metadata->pint>=0.8.1->chatterbot==1.0.4) (4.7.1)\n"
     ]
    }
   ],
   "source": [
    "!python3.7 -m pip install chatterbot==1.0.4 pytz"
   ]
  },
  {
   "cell_type": "markdown",
   "metadata": {},
   "source": [
    "#### Simple Chaterbot example\n"
   ]
  },
  {
   "cell_type": "markdown",
   "metadata": {},
   "source": [
    "We first import modules and libraries we need, such as ChatBot and ListTrainer from chatterbot. Then we create an instance of the ChatBot class and store it into a variable (chatbot here). To train our chatbot to give appropiate response, we start with small amout of data. We simply write a conditional statement usuing while loop that the loop will keep going as long as user have not entered special charachter or string via input, in the loop, user type their message, we store it in a variable named 'query' check if the user did or did not user the special charachter we defined to exit the loop, if they did loop will break and our program ends, if not, we call 'get_response' fucntion from our chatbot instance earlier and pass our 'query' which is the user message to the fucntion and what it will return is the response to the message, the accuracy and quality of the responses depends on the quality and the amount of the data our chatbot got trained with."
   ]
  },
  {
   "cell_type": "code",
   "execution_count": 6,
   "metadata": {},
   "outputs": [
    {
     "name": "stdout",
     "output_type": "stream",
     "text": [
      "List Trainer: [####################] 100%"
     ]
    },
    {
     "name": "stderr",
     "output_type": "stream",
     "text": [
      "[nltk_data] Downloading package averaged_perceptron_tagger to\n",
      "[nltk_data]     /home/rohi/nltk_data...\n",
      "[nltk_data]   Package averaged_perceptron_tagger is already up-to-\n",
      "[nltk_data]       date!\n",
      "[nltk_data] Downloading package punkt to /home/rohi/nltk_data...\n",
      "[nltk_data]   Package punkt is already up-to-date!\n",
      "[nltk_data] Downloading package stopwords to /home/rohi/nltk_data...\n",
      "[nltk_data]   Package stopwords is already up-to-date!\n"
     ]
    },
    {
     "name": "stdout",
     "output_type": "stream",
     "text": [
      "\n",
      "You: I would like to book a flight.\n",
      "Bot: Sure, I'd like to book a flight to Iceland.\n",
      "You: :q\n"
     ]
    }
   ],
   "source": [
    "from chatterbot import ChatBot\n",
    "from chatterbot.trainers import ListTrainer\n",
    "\n",
    "chatbot = ChatBot(\"Rohi&Bahadir\")\n",
    "\n",
    "trainer = ListTrainer(chatbot)\n",
    "\n",
    "trainer.train([\n",
    "    \"Hi, can I help you?\",\n",
    "    \"Sure, I'd like to book a flight to Iceland.\",\n",
    "    \"Your flight has been booked.\"\n",
    "])\n",
    "\n",
    "exit_conditions = (\":q\", \"quit\", \"exit\")\n",
    "while True:\n",
    "    query = input(\">>>  \")\n",
    "    print(f\"You: {query}\")\n",
    "    if query in exit_conditions:\n",
    "        break\n",
    "    else:\n",
    "        print(f\"Bot: {chatbot.get_response(query)}\")"
   ]
  },
  {
   "cell_type": "code",
   "execution_count": null,
   "metadata": {},
   "outputs": [],
   "source": []
  }
 ],
 "metadata": {
  "kernelspec": {
   "display_name": "chatbot-aTaNQHtA",
   "language": "python",
   "name": "python3"
  },
  "language_info": {
   "codemirror_mode": {
    "name": "ipython",
    "version": 3
   },
   "file_extension": ".py",
   "mimetype": "text/x-python",
   "name": "python",
   "nbconvert_exporter": "python",
   "pygments_lexer": "ipython3",
   "version": "3.7.17"
  }
 },
 "nbformat": 4,
 "nbformat_minor": 2
}
